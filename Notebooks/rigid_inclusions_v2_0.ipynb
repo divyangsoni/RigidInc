{
 "cells": [
  {
   "cell_type": "markdown",
   "id": "af7a6086",
   "metadata": {},
   "source": [
    "## DESIGN OF FOUNDATIONS SUPPORTED BY RIGID INCLUSIONS"
   ]
  },
  {
   "cell_type": "markdown",
   "id": "ecd93243",
   "metadata": {},
   "source": [
    "### Design Information"
   ]
  },
  {
   "cell_type": "markdown",
   "id": "998d0cd9",
   "metadata": {},
   "source": [
    "#### Provide the information below for design"
   ]
  },
  {
   "cell_type": "code",
   "execution_count": 28,
   "id": "d271ee19-1ea5-493f-9b38-29a0e057abc0",
   "metadata": {},
   "outputs": [],
   "source": [
    "import numpy as np\n",
    "# Input Parameters\n",
    "column_size = (2.0, 5.0)  # Column dimensions (x, y) in ft\n",
    "column_eccentricity = (0.0, 0)  # Eccentricity of column from center (x, y) in ft\n",
    "column_centroid = (7.0, 7.0)  # center of the column in ft\n",
    "pile_cap_thickness = 3.0  # Pile cap thickness in ft\n",
    "pile_embedment = 1.0  # Depth of pile embedment in pile cap (ft)\n",
    "soil_depth_above = 2.0  # Soil depth above pile cap (ft)\n",
    "soil_density =  0 # Soil density in pcf\n",
    "concrete_density = 0  # Concrete density in pcf\n",
    "concrete_strength_psi = 3000\n",
    "column_location = \"edge\" #edge/interior/corner\n",
    "lambda_factor = 1.0\n",
    "pile_cap_shear_depth = 2.625  # Effective shear depth (ft)"
   ]
  },
  {
   "cell_type": "markdown",
   "id": "e7a2a144",
   "metadata": {},
   "source": [
    "#### Provide information for rigid inclusions"
   ]
  },
  {
   "cell_type": "code",
   "execution_count": 29,
   "id": "39f2bba7-97d5-43b1-88ec-e9f82e685bc2",
   "metadata": {},
   "outputs": [],
   "source": [
    "# Pile Properties\n",
    "pile_shape = \"square\"  # Either \"square\" or \"circular\"\n",
    "pile_size = 0.833  # Pile size (ft)\n",
    "max_pile_compression = 120  # Max pile resistance in compression (kips)\n",
    "max_pile_tension = 120  # Max pile resistance in tension (kips)"
   ]
  },
  {
   "cell_type": "markdown",
   "id": "dbdb2133",
   "metadata": {},
   "source": [
    "#### Provide loads on the supported column"
   ]
  },
  {
   "cell_type": "code",
   "execution_count": 30,
   "id": "10da0329-f4fc-4c33-bc9e-e8ee2ba9bcff",
   "metadata": {},
   "outputs": [],
   "source": [
    "# Column Loads (kips and kip-ft)\n",
    "Fx, Fy, Fz = 0, 0.0, -840*1.29  # Forces in kips\n",
    "Mx, My = 0, 0  # Moments in kip-ft"
   ]
  },
  {
   "cell_type": "markdown",
   "id": "2ef53b54",
   "metadata": {},
   "source": [
    "#### Provide rigid inclusion layout"
   ]
  },
  {
   "cell_type": "code",
   "execution_count": 31,
   "id": "fd07ec4c-7e45-4fde-9781-d14b2740bf14",
   "metadata": {},
   "outputs": [],
   "source": [
    "# Pile Layout (x, y coordinates in ft) - measured from bottom-left corner\n",
    "pile_layout = np.array([\n",
    "    [5, 3.5],                    [9, 3.5],\n",
    "    [3, 7],  [7, 7],  [11, 7],\n",
    "    [5, 10.5],                   [9, 10.5]\n",
    "])  # (ft)"
   ]
  },
  {
   "cell_type": "markdown",
   "id": "31270a7c",
   "metadata": {},
   "source": [
    "#### Provide foundation shape coordinated"
   ]
  },
  {
   "cell_type": "code",
   "execution_count": 32,
   "id": "c8ef0bc1",
   "metadata": {},
   "outputs": [],
   "source": [
    "# Pile Cap Shape (Vertices of pile cap)\n",
    "pile_cap_vertices = np.array([\n",
    "    [0, 0], [14, 0], [14, 14], [0, 14]\n",
    "])  # Square pile cap"
   ]
  },
  {
   "cell_type": "markdown",
   "id": "75776dba",
   "metadata": {},
   "source": [
    "### Sections for Shear and Moment Calculations"
   ]
  },
  {
   "cell_type": "markdown",
   "id": "07634384",
   "metadata": {},
   "source": [
    "#### Sections for one-way shear"
   ]
  },
  {
   "cell_type": "code",
   "execution_count": 33,
   "id": "6de27711",
   "metadata": {},
   "outputs": [],
   "source": [
    "# Section 1: Regular line (y = mx + c)\n",
    "offset_1 = column_centroid[1] + column_size[1] / 2 + pile_cap_shear_depth\n",
    "one_way_shear_1_line_type = 'regular'\n",
    "one_way_shear_1_line_value = (0, offset_1)\n",
    "\n",
    "# Section 2: Vertical line (x = c)\n",
    "offset_2 = column_centroid[0] + column_size[0] / 2 + pile_cap_shear_depth\n",
    "one_way_shear_2_line_type = 'vertical'\n",
    "one_way_shear_2_line_value = (offset_2,)"
   ]
  },
  {
   "cell_type": "markdown",
   "id": "7bcdcc8c",
   "metadata": {},
   "source": [
    "#### Sections for one-way moment"
   ]
  },
  {
   "cell_type": "code",
   "execution_count": 34,
   "id": "e2cdaf3e",
   "metadata": {},
   "outputs": [],
   "source": [
    "# Section 1: Regular line (y = mx + c)\n",
    "offset_3 = column_centroid[1] + column_size[1] / 2\n",
    "one_way_moment_1_line_type = 'regular'\n",
    "one_way_moment_1_line_value = (0, offset_3)\n",
    "\n",
    "# Section 2: Vertical line (x = c)\n",
    "offset_4 = column_centroid[0] + column_size[0] / 2\n",
    "one_way_moment_2_line_type = 'vertical'\n",
    "one_way_moment_2_line_value = (offset_4,)"
   ]
  },
  {
   "cell_type": "markdown",
   "id": "7421603b",
   "metadata": {},
   "source": [
    "### Library Imports for Functionality"
   ]
  },
  {
   "cell_type": "code",
   "execution_count": 35,
   "id": "e20afd65-2ad1-44e3-8125-74bf3c0b016e",
   "metadata": {},
   "outputs": [],
   "source": [
    "import pandas as pd\n",
    "from shapely.geometry import Polygon, LineString, Point\n",
    "from shapely.ops import split\n",
    "import matplotlib.pyplot as plt\n",
    "from matplotlib.patches import Polygon as MplPolygon\n",
    "from pile_distribution_analyzer import (analyze_pile_distribution_with_reactions, calculate_moments_about_section_line)\n",
    "from weight_calculator import calculate_concrete_soil_weight\n",
    "from shear_polygon_analysis import analyze_shear_polygon_reactions\n",
    "from polygon_splitter import split_polygon_by_line\n",
    "from visualization import plot_foundation_analysis\n",
    "from design import calculate_area_of_steel\n",
    "from design import calculate_punching_shear_capacity\n"
   ]
  },
  {
   "cell_type": "markdown",
   "id": "b891f841",
   "metadata": {},
   "source": [
    "### Check to Verify All Rigid Inclusions are Within Foundation"
   ]
  },
  {
   "cell_type": "code",
   "execution_count": 36,
   "id": "865ff0f1-88c5-443e-a6db-72fb1fa56503",
   "metadata": {},
   "outputs": [],
   "source": [
    "# Verify all piles are within the pile cap boundary\n",
    "min_x, min_y = np.min(pile_cap_vertices, axis=0)\n",
    "max_x, max_y = np.max(pile_cap_vertices, axis=0)\n",
    "\n",
    "for i, (px, py) in enumerate(pile_layout):\n",
    "    if not (min_x <= px <= max_x and min_y <= py <= max_y):\n",
    "        raise ValueError(f\"Pile {i+1} at ({px}, {py}) is outside the pile cap!\")"
   ]
  },
  {
   "cell_type": "markdown",
   "id": "52cbf51e",
   "metadata": {},
   "source": [
    "### Calculations for Self-weight of Foundation and Soil"
   ]
  },
  {
   "cell_type": "code",
   "execution_count": 37,
   "id": "c20b9701-6045-4d3f-a88d-0ca8c25f2369",
   "metadata": {},
   "outputs": [],
   "source": [
    "# Compute Self-weight of Pile Cap and Soil\n",
    "pile_cap_volume = Polygon(pile_cap_vertices).area * pile_cap_thickness  # ft³\n",
    "pile_cap_weight = (pile_cap_volume * concrete_density) / 1000  # kips\n",
    "\n",
    "soil_volume = Polygon(pile_cap_vertices).area * soil_depth_above  # ft³\n",
    "soil_weight = (soil_volume * soil_density) / 1000  # kips\n",
    "\n",
    "# Deduct pile embedment weight\n",
    "pile_embedment_weight = (pile_embedment * pile_size**2 * len(pile_layout) * concrete_density) / 1000  # kips\n",
    "total_weight = pile_cap_weight + soil_weight - pile_embedment_weight"
   ]
  },
  {
   "cell_type": "markdown",
   "id": "489216fd",
   "metadata": {},
   "source": [
    "### Calculations for Reactions on Each Rigid Inclusion"
   ]
  },
  {
   "cell_type": "markdown",
   "id": "5c25ac44",
   "metadata": {},
   "source": [
    "#### Centroid of all rigid inclusions"
   ]
  },
  {
   "cell_type": "code",
   "execution_count": 38,
   "id": "3ea33d92-77ed-40f6-8e1b-a6c463492d64",
   "metadata": {},
   "outputs": [],
   "source": [
    "# Compute centroid of pile locations\n",
    "pile_centroid = np.mean(pile_layout, axis=0)"
   ]
  },
  {
   "cell_type": "markdown",
   "id": "3682b4dd",
   "metadata": {},
   "source": [
    "#### Load adjustment for column eccentricity"
   ]
  },
  {
   "cell_type": "code",
   "execution_count": 39,
   "id": "bbc6bf62-3ecc-478f-aa2d-cd57c07b0fb9",
   "metadata": {},
   "outputs": [],
   "source": [
    "# Adjust loads for eccentricity\n",
    "Mx_adj = Mx + Fz * column_eccentricity[1]  # Moment about x\n",
    "My_adj = My - Fz * column_eccentricity[0]  # Moment about y"
   ]
  },
  {
   "cell_type": "markdown",
   "id": "28e5aeff",
   "metadata": {},
   "source": [
    "#### Equilibrium equations"
   ]
  },
  {
   "cell_type": "code",
   "execution_count": 40,
   "id": "a1c0ec0e-8fa4-4bc8-b212-9bae03124130",
   "metadata": {},
   "outputs": [],
   "source": [
    "# Formulating Equilibrium Equations\n",
    "num_piles = len(pile_layout)\n",
    "A = np.zeros((3, num_piles))  # 3 equations (ΣFz=0, ΣMx=0, ΣMy=0)\n",
    "\n",
    "# Right-hand side of the system of equations (Fix My sign)\n",
    "b = np.array([-Fz + total_weight, -Mx_adj, My_adj])  # <-- FIX HERE\n",
    "\n",
    "for i, (px, py) in enumerate(pile_layout):\n",
    "    A[0, i] = 1  # ΣFz = 0\n",
    "    A[1, i] = py - pile_centroid[1]  # ΣMx = 0 (Moment arm about x-axis)\n",
    "    A[2, i] = px - pile_centroid[0]  # ΣMy = 0 (Moment arm about y-axis)\n",
    "\n",
    "# Solve for reactions using least squares (in case of near-singular matrices)\n",
    "reactions, _, _, _ = np.linalg.lstsq(A, b.reshape(-1, 1), rcond=None)"
   ]
  },
  {
   "cell_type": "markdown",
   "id": "ad95e86e",
   "metadata": {},
   "source": [
    "#### Checking all rigid inclusions are within their capacity"
   ]
  },
  {
   "cell_type": "code",
   "execution_count": 41,
   "id": "d439e308-e689-4443-9ac5-fb7a58cd4796",
   "metadata": {},
   "outputs": [
    {
     "name": "stdout",
     "output_type": "stream",
     "text": [
      "WARNING: Pile 1 exceeds max compression (154.80 > 120 kips)\n",
      "WARNING: Pile 2 exceeds max compression (154.80 > 120 kips)\n",
      "WARNING: Pile 3 exceeds max compression (154.80 > 120 kips)\n",
      "WARNING: Pile 4 exceeds max compression (154.80 > 120 kips)\n",
      "WARNING: Pile 5 exceeds max compression (154.80 > 120 kips)\n",
      "WARNING: Pile 6 exceeds max compression (154.80 > 120 kips)\n",
      "WARNING: Pile 7 exceeds max compression (154.80 > 120 kips)\n"
     ]
    }
   ],
   "source": [
    "# Ensure piles are within capacity\n",
    "for i, R in enumerate(reactions.flatten()):\n",
    "    if R > max_pile_compression:\n",
    "        print(f\"WARNING: Pile {i+1} exceeds max compression ({R:.2f} > {max_pile_compression} kips)\")\n",
    "    if R < -max_pile_tension:\n",
    "        print(f\"WARNING: Pile {i+1} exceeds max tension ({abs(R):.2f} > {max_pile_tension} kips)\")"
   ]
  },
  {
   "cell_type": "markdown",
   "id": "dd2482b1",
   "metadata": {},
   "source": [
    "#### Results for reactions on rigid inclusions"
   ]
  },
  {
   "cell_type": "code",
   "execution_count": 42,
   "id": "0f4fa4a4-ba64-4e21-b0ac-e84b5d4c8f77",
   "metadata": {},
   "outputs": [
    {
     "name": "stdout",
     "output_type": "stream",
     "text": [
      "\n",
      "Pile Reactions:\n",
      "    Pile  X (ft)  Y (ft)  Reaction (kips)\n",
      "0     1     5.0     3.5            154.8\n",
      "1     2     9.0     3.5            154.8\n",
      "2     3     3.0     7.0            154.8\n",
      "3     4     7.0     7.0            154.8\n",
      "4     5    11.0     7.0            154.8\n",
      "5     6     5.0    10.5            154.8\n",
      "6     7     9.0    10.5            154.8\n"
     ]
    }
   ],
   "source": [
    "# Display Results\n",
    "results = pd.DataFrame({\n",
    "    \"Pile\": np.arange(1, num_piles + 1),\n",
    "    \"X (ft)\": pile_layout[:, 0],\n",
    "    \"Y (ft)\": pile_layout[:, 1],\n",
    "    \"Reaction (kips)\": reactions.flatten()\n",
    "})\n",
    "\n",
    "print(\"\\nPile Reactions:\\n\", results)"
   ]
  },
  {
   "cell_type": "markdown",
   "id": "afbcc96a",
   "metadata": {},
   "source": [
    "### One-way Shear Calculations"
   ]
  },
  {
   "cell_type": "markdown",
   "id": "d1bf650d",
   "metadata": {},
   "source": [
    "#### Calculations for split areas"
   ]
  },
  {
   "cell_type": "code",
   "execution_count": 43,
   "id": "a62d601e-7752-40df-9de6-0d5e099652e5",
   "metadata": {},
   "outputs": [
    {
     "name": "stdout",
     "output_type": "stream",
     "text": [
      "Areas above the line 1: 26.25 sq.ft.\n",
      "Areas below the line 1: 169.75 sq.ft.\n",
      "\n",
      "Area for Section 1 (one-way shear): 26.25 sq.ft.\n",
      "\n",
      "Areas to the right of the line 2: 47.25 sq.ft.\n",
      "Areas to the left of the line 2: 148.75 sq.ft.\n",
      "\n",
      "Area for Section 2 (one-way shear): 47.25 sq.ft.\n"
     ]
    }
   ],
   "source": [
    "# Section 1: Function returns: area_above, area_below, first_area_moment_above, first_area_moment_below\n",
    "area_above, area_below, area_moment_above, area_moment_below = split_polygon_by_line(\n",
    "    pile_cap_vertices, one_way_shear_1_line_type, one_way_shear_1_line_value\n",
    ")\n",
    "\n",
    "print(f\"Areas above the line 1: {area_above:.2f} sq.ft.\")\n",
    "print(f\"Areas below the line 1: {area_below:.2f} sq.ft.\")\n",
    "\n",
    "area_B = min(area_above, area_below)\n",
    "print(f\"\\nArea for Section 1 (one-way shear): {area_B:.2f} sq.ft.\")\n",
    "\n",
    "area_right, area_left, area_moment_right, area_moment_left = split_polygon_by_line(\n",
    "    pile_cap_vertices, one_way_shear_2_line_type, one_way_shear_2_line_value\n",
    ")\n",
    "\n",
    "print(f\"\\nAreas to the right of the line 2: {area_right:.2f} sq.ft.\")\n",
    "print(f\"Areas to the left of the line 2: {area_left:.2f} sq.ft.\")\n",
    "\n",
    "area_A = min(area_right, area_left)\n",
    "print(f\"\\nArea for Section 2 (one-way shear): {area_A:.2f} sq.ft.\")"
   ]
  },
  {
   "cell_type": "markdown",
   "id": "f38e2abf",
   "metadata": {},
   "source": [
    "#### Calculations for soil and concrete weights"
   ]
  },
  {
   "cell_type": "code",
   "execution_count": 44,
   "id": "e87074f0",
   "metadata": {},
   "outputs": [
    {
     "name": "stdout",
     "output_type": "stream",
     "text": [
      "Concrete weight over 26.250 sq.ft.: 0.000 kips\n",
      "Soil weight over 26.250 sq.ft.: 0.000 kips\n",
      "\n",
      "Concrete weight over 47.250 sq.ft.: 0.000 kips\n",
      "Soil weight over 47.250 sq.ft.: 0.000 kips\n"
     ]
    }
   ],
   "source": [
    "# Section 1\n",
    "concrete_wt_B, soil_wt_B = calculate_concrete_soil_weight(\n",
    "    area_B,\n",
    "    pile_cap_thickness,\n",
    "    soil_depth_above,\n",
    "    concrete_density,\n",
    "    soil_density\n",
    ")\n",
    "\n",
    "print(f\"Concrete weight over {area_B:.3f} sq.ft.: {concrete_wt_B:.3f} kips\")\n",
    "print(f\"Soil weight over {area_B:.3f} sq.ft.: {soil_wt_B:.3f} kips\")\n",
    "\n",
    "# Section 2\n",
    "concrete_wt_A, soil_wt_A = calculate_concrete_soil_weight(\n",
    "    area_A,\n",
    "    pile_cap_thickness,\n",
    "    soil_depth_above,\n",
    "    concrete_density,\n",
    "    soil_density\n",
    ")\n",
    "\n",
    "print(f\"\\nConcrete weight over {area_A:.3f} sq.ft.: {concrete_wt_A:.3f} kips\")\n",
    "print(f\"Soil weight over {area_A:.3f} sq.ft.: {soil_wt_A:.3f} kips\")"
   ]
  },
  {
   "cell_type": "markdown",
   "id": "fa5f4405",
   "metadata": {},
   "source": [
    "#### Calculations for pile reactions over the split areas"
   ]
  },
  {
   "cell_type": "code",
   "execution_count": 45,
   "id": "bee4a750",
   "metadata": {},
   "outputs": [
    {
     "name": "stdout",
     "output_type": "stream",
     "text": [
      "\n",
      "=== Areas (Section 1)===\n",
      "Total pile area above line 1: 0.00 sq.ft.\n",
      "Total pile area below line 1: 4.86 sq.ft.\n",
      "\n",
      "=== Piles (Section 1) ===\n",
      "Piles above line 1: []\n",
      "Piles below line 1: [1, 2, 3, 4, 5, 6, 7]\n",
      "\n",
      "=== Intersected Piles  (Section 1) ===\n",
      "Intersected piles: []\n",
      "Intersected areas above line 1: 0.00 sq.ft.\n",
      "Intersected areas below line 1: 0.00 sq.ft.\n",
      "\n",
      "=== Reactions  (Section 1) ===\n",
      "Total reaction above line 1: 0.00 kips\n",
      "Total reaction below line 1: 1083.60 kips\n",
      "\n",
      "=== Areas (Section 2)===\n",
      "Total pile area to the right of line 2: 0.66 sq.ft.\n",
      "Total pile area to the left of line 2: 4.20 sq.ft.\n",
      "\n",
      "=== Piles (Section 2) ===\n",
      "Piles to the right of line 2: []\n",
      "Piles to the left of line 2: [1, 2, 3, 4, 6, 7]\n",
      "\n",
      "=== Intersected Piles  (Section 2) ===\n",
      "Intersected piles: [5]\n",
      "Intersected areas to the right of line 2: 0.66 sq.ft.\n",
      "Intersected areas to the left of line 2: 0.03 sq.ft.\n",
      "\n",
      "=== Reactions  (Section 2) ===\n",
      "Total reaction to the right of line 2: 147.09 kips\n",
      "Total reaction to the left of line 2: 936.51 kips\n"
     ]
    }
   ],
   "source": [
    "# -----------------------------------\n",
    "# Section 1: Analyze pile distribution with reactions \n",
    "# -----------------------------------\n",
    "(\n",
    "    area_above_1, area_below_1,\n",
    "    piles_above_1, piles_below_1,\n",
    "    intersected_area_above_1, intersected_area_below_1,\n",
    "    intersected_piles_1,\n",
    "    total_reaction_above_1, total_reaction_below_1,\n",
    "    intersected_pile_geoms_1\n",
    ") = analyze_pile_distribution_with_reactions(\n",
    "    polygon_vertices=pile_cap_vertices,\n",
    "    line_type=one_way_shear_1_line_type,\n",
    "    line_value=one_way_shear_1_line_value,\n",
    "    pile_layout=pile_layout,\n",
    "    pile_size=pile_size,\n",
    "    pile_reactions=reactions\n",
    ")\n",
    "\n",
    "# -----------------------------------\n",
    "# Print results\n",
    "# -----------------------------------\n",
    "print(f\"\\n=== Areas (Section 1)===\")\n",
    "print(f\"Total pile area above line 1: {area_above_1:.2f} sq.ft.\")\n",
    "print(f\"Total pile area below line 1: {area_below_1:.2f} sq.ft.\")\n",
    "\n",
    "print(f\"\\n=== Piles (Section 1) ===\")\n",
    "print(f\"Piles above line 1: {piles_above_1}\")\n",
    "print(f\"Piles below line 1: {piles_below_1}\")\n",
    "\n",
    "print(f\"\\n=== Intersected Piles  (Section 1) ===\")\n",
    "print(f\"Intersected piles: {intersected_piles_1}\")\n",
    "print(f\"Intersected areas above line 1: {intersected_area_above_1:.2f} sq.ft.\")\n",
    "print(f\"Intersected areas below line 1: {intersected_area_below_1:.2f} sq.ft.\")\n",
    "\n",
    "print(f\"\\n=== Reactions  (Section 1) ===\")\n",
    "print(f\"Total reaction above line 1: {total_reaction_above_1:.2f} kips\")\n",
    "print(f\"Total reaction below line 1: {total_reaction_below_1:.2f} kips\")\n",
    "\n",
    "# -----------------------------------\n",
    "# Section 2: Analyze pile distribution with reactions \n",
    "# -----------------------------------\n",
    "(\n",
    "    area_above_2, area_below_2,\n",
    "    piles_above_2, piles_below_2,\n",
    "    intersected_area_above_2, intersected_area_below_2,\n",
    "    intersected_piles_2,\n",
    "    total_reaction_above_2, total_reaction_below_2,\n",
    "    intersected_pile_geoms_2\n",
    ") = analyze_pile_distribution_with_reactions(\n",
    "    polygon_vertices=pile_cap_vertices,\n",
    "    line_type=one_way_shear_2_line_type,\n",
    "    line_value=one_way_shear_2_line_value,\n",
    "    pile_layout=pile_layout,\n",
    "    pile_size=pile_size,\n",
    "    pile_reactions=reactions\n",
    ")\n",
    "\n",
    "# -----------------------------------\n",
    "# Print results\n",
    "# -----------------------------------\n",
    "print(f\"\\n=== Areas (Section 2)===\")\n",
    "print(f\"Total pile area to the right of line 2: {area_above_2:.2f} sq.ft.\")\n",
    "print(f\"Total pile area to the left of line 2: {area_below_2:.2f} sq.ft.\")\n",
    "\n",
    "print(f\"\\n=== Piles (Section 2) ===\")\n",
    "print(f\"Piles to the right of line 2: {piles_above_2}\")\n",
    "print(f\"Piles to the left of line 2: {piles_below_2}\")\n",
    "\n",
    "print(f\"\\n=== Intersected Piles  (Section 2) ===\")\n",
    "print(f\"Intersected piles: {intersected_piles_2}\")\n",
    "print(f\"Intersected areas to the right of line 2: {intersected_area_above_2:.2f} sq.ft.\")\n",
    "print(f\"Intersected areas to the left of line 2: {intersected_area_below_2:.2f} sq.ft.\")\n",
    "\n",
    "print(f\"\\n=== Reactions  (Section 2) ===\")\n",
    "print(f\"Total reaction to the right of line 2: {total_reaction_above_2:.2f} kips\")\n",
    "print(f\"Total reaction to the left of line 2: {total_reaction_below_2:.2f} kips\")"
   ]
  },
  {
   "cell_type": "markdown",
   "id": "c879ec17",
   "metadata": {},
   "source": [
    "#### Calculations for net one-way shear"
   ]
  },
  {
   "cell_type": "code",
   "execution_count": 46,
   "id": "43b5498f",
   "metadata": {},
   "outputs": [
    {
     "name": "stdout",
     "output_type": "stream",
     "text": [
      "\n",
      "=== One-Way Shear (kips)===\n",
      "Net one-way shear at Section 1: 0.00 kips\n",
      "Net one-way shear at Section 2: 147.09 kips\n"
     ]
    }
   ],
   "source": [
    "one_way_shear_section_2 = total_reaction_above_2 - concrete_wt_A - soil_wt_A\n",
    "one_way_shear_section_1 = total_reaction_above_1 - concrete_wt_B - soil_wt_B\n",
    "\n",
    "print(f\"\\n=== One-Way Shear (kips)===\")\n",
    "print(f\"Net one-way shear at Section 1: {one_way_shear_section_1:.2f} kips\")\n",
    "print(f\"Net one-way shear at Section 2: {one_way_shear_section_2:.2f} kips\")\n"
   ]
  },
  {
   "cell_type": "markdown",
   "id": "054c19ac",
   "metadata": {},
   "source": [
    "### One-way Moment Calculations"
   ]
  },
  {
   "cell_type": "markdown",
   "id": "66f062fa",
   "metadata": {},
   "source": [
    "#### Calculations for split areas and first moment of areas"
   ]
  },
  {
   "cell_type": "code",
   "execution_count": 47,
   "id": "65ffbdad",
   "metadata": {},
   "outputs": [
    {
     "name": "stdout",
     "output_type": "stream",
     "text": [
      "Areas above the line 1: 63.00 sq.ft.\n",
      "Areas below the line 1: 133.00 sq.ft.\n",
      "First area moment above the line: 141.75 sq.ft.-ft\n",
      "First area moment below the line: 631.75 sq.ft.-ft\n",
      "\n",
      "\n",
      "Area for Section 1 (one-way moment): 63.00 sq.ft.\n",
      "First moment of area for Section 1 (one-way moment): 141.75 sq.ft.\n",
      "\n",
      "Areas right of the line 2: 84.00 sq.ft.\n",
      "Areas left the line 2: 112.00 sq.ft.\n",
      "First area moment right of the line: 252.00 sq.ft.-ft\n",
      "First area moment left of the line: 448.00 sq.ft.-ft\n",
      "\n",
      "\n",
      "Area for Section 2 (one-way moment): 84.00 sq.ft.\n",
      "First moment of area for Section 2 (one-way moment): 252.00 sq.ft.\n"
     ]
    }
   ],
   "source": [
    "# Section 1: Function returns: area_above, area_below, first_area_moment_above, first_area_moment_below\n",
    "area_above_4, area_below_4, area_moment_above_4, area_moment_below_4 = split_polygon_by_line(\n",
    "    pile_cap_vertices, one_way_moment_1_line_type, one_way_moment_1_line_value\n",
    ")\n",
    "\n",
    "print(f\"Areas above the line 1: {area_above_4:.2f} sq.ft.\")\n",
    "print(f\"Areas below the line 1: {area_below_4:.2f} sq.ft.\")\n",
    "print(f\"First area moment above the line: {area_moment_above_4:.2f} sq.ft.-ft\")\n",
    "print(f\"First area moment below the line: {area_moment_below_4:.2f} sq.ft.-ft\\n\")\n",
    "\n",
    "area_D = min(area_above_4, area_below_4)\n",
    "first_moment_area_D = min(area_moment_above_4, area_moment_below_4)\n",
    "print(f\"\\nArea for Section 1 (one-way moment): {area_D:.2f} sq.ft.\")\n",
    "print(f\"First moment of area for Section 1 (one-way moment): {first_moment_area_D:.2f} sq.ft.\")\n",
    "\n",
    "# Section 2: Function returns: area_above, area_below, first_area_moment_above, first_area_moment_below\n",
    "area_above_3, area_below_3, area_moment_above_3, area_moment_below_3 = split_polygon_by_line(\n",
    "    pile_cap_vertices, one_way_moment_2_line_type, one_way_moment_2_line_value\n",
    ")\n",
    "\n",
    "print(f\"\\nAreas right of the line 2: {area_above_3:.2f} sq.ft.\")\n",
    "print(f\"Areas left the line 2: {area_below_3:.2f} sq.ft.\")\n",
    "print(f\"First area moment right of the line: {area_moment_above_3:.2f} sq.ft.-ft\")\n",
    "print(f\"First area moment left of the line: {area_moment_below_3:.2f} sq.ft.-ft\\n\")\n",
    "\n",
    "area_C = min(area_above_3, area_below_3)\n",
    "first_moment_area_C = min(area_moment_above_3, area_moment_below_3)\n",
    "print(f\"\\nArea for Section 2 (one-way moment): {area_C:.2f} sq.ft.\")\n",
    "print(f\"First moment of area for Section 2 (one-way moment): {first_moment_area_C:.2f} sq.ft.\")"
   ]
  },
  {
   "cell_type": "markdown",
   "id": "cf8a1d70",
   "metadata": {},
   "source": [
    "#### Calculations for moment due to soil and concrete weights"
   ]
  },
  {
   "cell_type": "code",
   "execution_count": 48,
   "id": "6e60f888",
   "metadata": {},
   "outputs": [
    {
     "name": "stdout",
     "output_type": "stream",
     "text": [
      "\n",
      "=== Concrete and Soil Moments (Section 1) ===\n",
      "Concrete moment (over first moment of area) 141.750 cu.ft.: 0.000 kip-ft\n",
      "Soil moment (over first moment of area) 141.750 cu.ft.: 0.000 kip-ft\n",
      "\n",
      "=== Concrete and Soil Moments (Section 2) ===\n",
      "Concrete moment (over first moment of area) 252.000 cu.ft.: 0.000 kip-ft\n",
      "Soil moment (over first moment of area) 252.000 cu.ft.: 0.000 kip-ft\n"
     ]
    }
   ],
   "source": [
    "# Section 1\n",
    "concrete_moment_D, soil_moment_D = calculate_concrete_soil_weight(\n",
    "    first_moment_area_D,\n",
    "    pile_cap_thickness,\n",
    "    soil_depth_above,\n",
    "    concrete_density,\n",
    "    soil_density\n",
    ")\n",
    "\n",
    "print(f\"\\n=== Concrete and Soil Moments (Section 1) ===\")\n",
    "print(f\"Concrete moment (over first moment of area) {first_moment_area_D:.3f} cu.ft.: {concrete_moment_D:.3f} kip-ft\")\n",
    "print(f\"Soil moment (over first moment of area) {first_moment_area_D:.3f} cu.ft.: {soil_moment_D:.3f} kip-ft\")\n",
    "\n",
    "# Section 2\n",
    "concrete_moment_C, soil_moment_C = calculate_concrete_soil_weight(\n",
    "    first_moment_area_C,\n",
    "    pile_cap_thickness,\n",
    "    soil_depth_above,\n",
    "    concrete_density,\n",
    "    soil_density\n",
    ")\n",
    "\n",
    "print(f\"\\n=== Concrete and Soil Moments (Section 2) ===\")\n",
    "print(f\"Concrete moment (over first moment of area) {first_moment_area_C:.3f} cu.ft.: {concrete_moment_C:.3f} kip-ft\")\n",
    "print(f\"Soil moment (over first moment of area) {first_moment_area_C:.3f} cu.ft.: {soil_moment_C:.3f} kip-ft\")"
   ]
  },
  {
   "cell_type": "markdown",
   "id": "0dedc622",
   "metadata": {},
   "source": [
    "#### Calculations for moment due to pile reactions over the split areas"
   ]
  },
  {
   "cell_type": "code",
   "execution_count": 49,
   "id": "1fad2a22",
   "metadata": {},
   "outputs": [
    {
     "name": "stdout",
     "output_type": "stream",
     "text": [
      "\n",
      "=== Areas (Section 1)===\n",
      "Total pile area above line 1: 1.39 sq.ft.\n",
      "Total pile area below line 1: 3.47 sq.ft.\n",
      "\n",
      "=== Piles (Section 1) ===\n",
      "Piles above line 1: [6, 7]\n",
      "Piles below line 1: [1, 2, 3, 4, 5]\n",
      "\n",
      "=== Intersected Piles  (Section 1) ===\n",
      "Intersected piles: []\n",
      "Intersected areas above line 1: 0.00 sq.ft.\n",
      "Intersected areas below line 1: 0.00 sq.ft.\n",
      "\n",
      "=== Reactions  (Section 1) ===\n",
      "Total reaction above line 1: 309.60 kips\n",
      "Total reaction below line 1: 774.00 kips\n",
      "\n",
      "=== Moments (Section 1) ===\n",
      "Moment above line: 309.60 kip-ft\n",
      "Moment below line: 3018.60 kip-ft\n",
      "\n",
      "=== Areas (Section 2)===\n",
      "Total pile area right of line 2: 2.08 sq.ft.\n",
      "Total pile area left of line 2: 2.78 sq.ft.\n",
      "\n",
      "=== Piles (Section 2) ===\n",
      "Piles right of line 2: [2, 5, 7]\n",
      "Piles left of line 2: [1, 3, 4, 6]\n",
      "\n",
      "=== Intersected Piles  (Section 1) ===\n",
      "Intersected piles: []\n",
      "Intersected areas right of line 2: 0.00 sq.ft.\n",
      "Intersected areas left of line 2: 0.00 sq.ft.\n",
      "\n",
      "=== Reactions  (Section 2) ===\n",
      "Total reaction right of line 2: 464.40 kips\n",
      "Total reaction left of line 2: 619.20 kips\n",
      "\n",
      "=== Moments (Section 2) ===\n",
      "Moment right of line: 774.00 kip-ft\n",
      "Moment left of line: 1857.60 kip-ft\n"
     ]
    }
   ],
   "source": [
    "# -----------------------------------\n",
    "# Section 1: Analyze pile distribution with reactions \n",
    "# -----------------------------------\n",
    "(\n",
    "    area_above_4, area_below_4,\n",
    "    piles_above_4, piles_below_4,\n",
    "    intersected_area_above_4, intersected_area_below_4,\n",
    "    intersected_piles_4,\n",
    "    total_reaction_above_4, total_reaction_below_4,\n",
    "    intersected_pile_geoms_4\n",
    ") = analyze_pile_distribution_with_reactions(\n",
    "    polygon_vertices=pile_cap_vertices,\n",
    "    line_type=one_way_moment_1_line_type,\n",
    "    line_value=one_way_moment_1_line_value,\n",
    "    pile_layout=pile_layout,\n",
    "    pile_size=pile_size,\n",
    "    pile_reactions=reactions\n",
    ")\n",
    "\n",
    "# -----------------------------------\n",
    "# Calculate moments about section line\n",
    "# -----------------------------------\n",
    "moment_above_4, moment_below_4 = calculate_moments_about_section_line(\n",
    "    line_type=one_way_moment_1_line_type,\n",
    "    line_value=one_way_moment_1_line_value,\n",
    "    pile_layout=pile_layout,\n",
    "    pile_reactions=reactions,\n",
    "    piles_above=piles_above_4,\n",
    "    piles_below=piles_below_4,\n",
    "    intersected_pile_geoms=intersected_pile_geoms_4\n",
    ")\n",
    "\n",
    "# -----------------------------------\n",
    "# Print results\n",
    "# -----------------------------------\n",
    "print(f\"\\n=== Areas (Section 1)===\")\n",
    "print(f\"Total pile area above line 1: {area_above_4:.2f} sq.ft.\")\n",
    "print(f\"Total pile area below line 1: {area_below_4:.2f} sq.ft.\")\n",
    "\n",
    "print(f\"\\n=== Piles (Section 1) ===\")\n",
    "print(f\"Piles above line 1: {piles_above_4}\")\n",
    "print(f\"Piles below line 1: {piles_below_4}\")\n",
    "\n",
    "print(f\"\\n=== Intersected Piles  (Section 1) ===\")\n",
    "print(f\"Intersected piles: {intersected_piles_4}\")\n",
    "print(f\"Intersected areas above line 1: {intersected_area_above_4:.2f} sq.ft.\")\n",
    "print(f\"Intersected areas below line 1: {intersected_area_below_4:.2f} sq.ft.\")\n",
    "\n",
    "print(f\"\\n=== Reactions  (Section 1) ===\")\n",
    "print(f\"Total reaction above line 1: {total_reaction_above_4:.2f} kips\")\n",
    "print(f\"Total reaction below line 1: {total_reaction_below_4:.2f} kips\")\n",
    "\n",
    "print(f\"\\n=== Moments (Section 1) ===\")\n",
    "print(f\"Moment above line: {moment_above_4:.2f} kip-ft\")\n",
    "print(f\"Moment below line: {moment_below_4:.2f} kip-ft\")\n",
    "\n",
    "\n",
    "\n",
    "# -----------------------------------\n",
    "# Section 2: Analyze pile distribution with reactions \n",
    "# -----------------------------------\n",
    "(\n",
    "    area_above_3, area_below_3,\n",
    "    piles_above_3, piles_below_3,\n",
    "    intersected_area_above_3, intersected_area_below_3,\n",
    "    intersected_piles_3,\n",
    "    total_reaction_above_3, total_reaction_below_3,\n",
    "    intersected_pile_geoms_3\n",
    ") = analyze_pile_distribution_with_reactions(\n",
    "    polygon_vertices=pile_cap_vertices,\n",
    "    line_type=one_way_moment_2_line_type,\n",
    "    line_value=one_way_moment_2_line_value,\n",
    "    pile_layout=pile_layout,\n",
    "    pile_size=pile_size,\n",
    "    pile_reactions=reactions\n",
    ")\n",
    "\n",
    "# -----------------------------------\n",
    "# Calculate moments about section line\n",
    "# -----------------------------------\n",
    "moment_above_3, moment_below_3 = calculate_moments_about_section_line(\n",
    "    line_type=one_way_moment_2_line_type,\n",
    "    line_value=one_way_moment_2_line_value,\n",
    "    pile_layout=pile_layout,\n",
    "    pile_reactions=reactions,\n",
    "    piles_above=piles_above_3,\n",
    "    piles_below=piles_below_3,\n",
    "    intersected_pile_geoms=intersected_pile_geoms_3\n",
    ")\n",
    "\n",
    "# -----------------------------------\n",
    "# Print results\n",
    "# -----------------------------------\n",
    "print(f\"\\n=== Areas (Section 2)===\")\n",
    "print(f\"Total pile area right of line 2: {area_above_3:.2f} sq.ft.\")\n",
    "print(f\"Total pile area left of line 2: {area_below_3:.2f} sq.ft.\")\n",
    "\n",
    "print(f\"\\n=== Piles (Section 2) ===\")\n",
    "print(f\"Piles right of line 2: {piles_above_3}\")\n",
    "print(f\"Piles left of line 2: {piles_below_3}\")\n",
    "\n",
    "print(f\"\\n=== Intersected Piles  (Section 1) ===\")\n",
    "print(f\"Intersected piles: {intersected_piles_3}\")\n",
    "print(f\"Intersected areas right of line 2: {intersected_area_above_3:.2f} sq.ft.\")\n",
    "print(f\"Intersected areas left of line 2: {intersected_area_below_3:.2f} sq.ft.\")\n",
    "\n",
    "print(f\"\\n=== Reactions  (Section 2) ===\")\n",
    "print(f\"Total reaction right of line 2: {total_reaction_above_3:.2f} kips\")\n",
    "print(f\"Total reaction left of line 2: {total_reaction_below_3:.2f} kips\")\n",
    "\n",
    "print(f\"\\n=== Moments (Section 2) ===\")\n",
    "print(f\"Moment right of line: {moment_above_3:.2f} kip-ft\")\n",
    "print(f\"Moment left of line: {moment_below_3:.2f} kip-ft\")"
   ]
  },
  {
   "cell_type": "markdown",
   "id": "c379954d",
   "metadata": {},
   "source": [
    "#### Calculations for net one-way moment"
   ]
  },
  {
   "cell_type": "code",
   "execution_count": 50,
   "id": "1fb0fafe",
   "metadata": {},
   "outputs": [
    {
     "name": "stdout",
     "output_type": "stream",
     "text": [
      "\n",
      "=== One-Way Mooment (kip-ft)===\n",
      "Net one-way moment at Section 1: 309.60 kip-ft\n",
      "Net one-way moment at Section 2: 774.00 kip-ft\n"
     ]
    }
   ],
   "source": [
    "one_way_moment_section_3 = moment_above_3 - concrete_moment_C - soil_moment_C\n",
    "one_way_moment_section_4 = moment_above_4 - concrete_moment_D - soil_moment_D\n",
    "\n",
    "print(f\"\\n=== One-Way Mooment (kip-ft)===\")\n",
    "print(f\"Net one-way moment at Section 1: {one_way_moment_section_4:.2f} kip-ft\")\n",
    "print(f\"Net one-way moment at Section 2: {one_way_moment_section_3:.2f} kip-ft\")\n",
    "\n",
    "\n",
    "area_of_steel_section_1 = calculate_area_of_steel(one_way_moment_section_4, pile_cap_shear_depth)\n",
    "area_of_steel_section_2 = calculate_area_of_steel(one_way_moment_section_3, pile_cap_shear_depth)\n"
   ]
  },
  {
   "cell_type": "markdown",
   "id": "9a8344cc",
   "metadata": {},
   "source": [
    "### Two-way Shear Calculations"
   ]
  },
  {
   "cell_type": "markdown",
   "id": "fe3b5c3e",
   "metadata": {},
   "source": [
    "#### Calculations for total reaction outside two-way shear polygon"
   ]
  },
  {
   "cell_type": "code",
   "execution_count": 51,
   "id": "a4767479-89de-4277-9e57-ad9d39c79416",
   "metadata": {},
   "outputs": [
    {
     "name": "stdout",
     "output_type": "stream",
     "text": [
      "Total reaction outside shear polygon: 454.56 kip\n",
      "Shear polygon perimeter length: 24.50 ft\n",
      "Shear polygon coordinates: [(4.6875, 3.1875), (4.6875, 10.8125), (9.3125, 10.8125), (9.3125, 3.1875), (4.6875, 3.1875)]\n",
      "\n",
      "Piles fully inside shear polygon: [4]\n",
      "Piles fully outside shear polygon: [3, 5]\n",
      "Piles intersecting shear polygon: [1, 2, 6, 7]\n"
     ]
    }
   ],
   "source": [
    "# Total reaction outside punching shear polygon\n",
    "result = analyze_shear_polygon_reactions(\n",
    "    polygon_vertices=pile_cap_vertices,\n",
    "    pile_layout=pile_layout,\n",
    "    pile_size=pile_size,\n",
    "    column_centroid=column_centroid,\n",
    "    column_size=column_size,\n",
    "    shear_depth=pile_cap_shear_depth,\n",
    "    pile_reactions=reactions\n",
    ")\n",
    "\n",
    "(\n",
    "    total_reaction_outside,\n",
    "    shear_polygon_coords,\n",
    "    shear_polygon_perimeter,\n",
    "    inside_piles,\n",
    "    outside_piles,\n",
    "    intersecting_piles\n",
    ") = result\n",
    "\n",
    "print(f\"Total reaction outside shear polygon: {total_reaction_outside:.2f} kip\")\n",
    "print(f\"Shear polygon perimeter length: {shear_polygon_perimeter:.2f} ft\")\n",
    "print(f\"Shear polygon coordinates: {shear_polygon_coords}\\n\")\n",
    "\n",
    "print(f\"Piles fully inside shear polygon: {inside_piles}\")\n",
    "print(f\"Piles fully outside shear polygon: {outside_piles}\")\n",
    "print(f\"Piles intersecting shear polygon: {intersecting_piles}\")\n"
   ]
  },
  {
   "cell_type": "markdown",
   "id": "f7521b34",
   "metadata": {},
   "source": [
    "#### Calculations for punching shear capacity"
   ]
  },
  {
   "cell_type": "code",
   "execution_count": 52,
   "id": "d89a0c5d",
   "metadata": {},
   "outputs": [
    {
     "name": "stdout",
     "output_type": "stream",
     "text": [
      "Punching shear capacity = 1521.738 kips\n",
      "Punching shear utilization ratio = 29.87 %\n"
     ]
    }
   ],
   "source": [
    "Vc = calculate_punching_shear_capacity(\n",
    "    column_size,\n",
    "    concrete_strength_psi ,\n",
    "    pile_cap_shear_depth*12,\n",
    "    shear_polygon_perimeter*12,\n",
    "    lambda_factor,\n",
    "    column_location, \n",
    ")\n",
    "print(f\"Punching shear capacity = {Vc:.3f} kips\")\n",
    "utilization_ratio = total_reaction_outside / Vc * 100\n",
    "print(f\"Punching shear utilization ratio = {utilization_ratio:.2f} %\")"
   ]
  },
  {
   "cell_type": "markdown",
   "id": "3c5b4809",
   "metadata": {},
   "source": [
    "### Summary of Shear and Moment Acting on Foundation"
   ]
  },
  {
   "cell_type": "markdown",
   "id": "29950447",
   "metadata": {},
   "source": [
    "#### Analysis results"
   ]
  },
  {
   "cell_type": "code",
   "execution_count": 53,
   "id": "9e94f968",
   "metadata": {},
   "outputs": [
    {
     "name": "stdout",
     "output_type": "stream",
     "text": [
      "\n",
      "=== One-Way Shear (kips)===\n",
      "Net one-way shear at Section 1: 0.00 kips\n",
      "Net one-way shear at Section 2: 147.09 kips\n",
      "\n",
      "=== One-Way Mooment (kip-ft)===\n",
      "Net one-way moment at Section 1: 309.60 kip-ft\n",
      "Net one-way moment at Section 2: 774.00 kip-ft\n",
      "Area of steel for Section 1: 2.730 sq. in.\n",
      "Area of steel for Section 2: 6.825 sq. in.\n",
      "\n",
      "=== Two-way Shear (kip)===\n",
      "Total reaction outside shear polygon: 454.56 kip\n",
      "Punching shear capacity = 1521.738 kips\n",
      "Punching shear utilization ratio = 29.87 %\n"
     ]
    }
   ],
   "source": [
    "print(f\"\\n=== One-Way Shear (kips)===\")\n",
    "print(f\"Net one-way shear at Section 1: {one_way_shear_section_1:.2f} kips\")\n",
    "print(f\"Net one-way shear at Section 2: {one_way_shear_section_2:.2f} kips\")\n",
    "\n",
    "print(f\"\\n=== One-Way Mooment (kip-ft)===\")\n",
    "print(f\"Net one-way moment at Section 1: {one_way_moment_section_4:.2f} kip-ft\")\n",
    "print(f\"Net one-way moment at Section 2: {one_way_moment_section_3:.2f} kip-ft\")\n",
    "print(f\"Area of steel for Section 1: {area_of_steel_section_1:.3f} sq. in.\")\n",
    "print(f\"Area of steel for Section 2: {area_of_steel_section_2:.3f} sq. in.\")\n",
    "\n",
    "print(f\"\\n=== Two-way Shear (kip)===\")\n",
    "print(f\"Total reaction outside shear polygon: {total_reaction_outside:.2f} kip\")\n",
    "print(f\"Punching shear capacity = {Vc:.3f} kips\")\n",
    "print(f\"Punching shear utilization ratio = {utilization_ratio:.2f} %\")\n"
   ]
  },
  {
   "cell_type": "markdown",
   "id": "ed4fd625",
   "metadata": {},
   "source": [
    "### Visualization"
   ]
  },
  {
   "cell_type": "code",
   "execution_count": 54,
   "id": "5c85095a",
   "metadata": {},
   "outputs": [
    {
     "data": {
      "image/png": "[encoded data removed]",
      "text/plain": [
       "<Figure size 980x980 with 1 Axes>"
      ]
     },
     "metadata": {},
     "output_type": "display_data"
    }
   ],
   "source": [
    "plot_foundation_analysis(pile_cap_vertices,    pile_layout,    pile_size,    reactions,    column_size,    column_centroid,\n",
    "    pile_cap_thickness,    pile_cap_shear_depth, one_way_shear_1_line_type,    one_way_shear_1_line_value,    one_way_shear_2_line_type,\n",
    "    one_way_shear_2_line_value,    one_way_moment_1_line_type,    one_way_moment_1_line_value,    one_way_moment_2_line_type,\n",
    "    one_way_moment_2_line_value,    one_way_shear_section_1,    one_way_shear_section_2,    one_way_moment_section_4,\n",
    "    one_way_moment_section_3,    area_of_steel_section_1,    area_of_steel_section_2,    shear_polygon_coords,\n",
    "    total_reaction_outside,    Vc,    utilization_ratio)\n"
   ]
  },
  {
   "cell_type": "code",
   "execution_count": 58,
   "id": "d2d88986",
   "metadata": {},
   "outputs": [
    {
     "name": "stdout",
     "output_type": "stream",
     "text": [
      "14\n"
     ]
    }
   ],
   "source": [
    "# First, determine the extents of the pile cap to adapt the figure size:\n",
    "min_x, min_y = np.min(pile_cap_vertices, axis=0)\n",
    "max_x, max_y = np.max(pile_cap_vertices, axis=0)\n",
    "width_ft = max_x - min_x\n",
    "height_ft = max_y - min_y\n",
    "print(width_ft)"
   ]
  },
  {
   "cell_type": "code",
   "execution_count": null,
   "id": "fb18c7be",
   "metadata": {},
   "outputs": [],
   "source": [
    "def calculate_area_of_steel_minimum(moment, pile_cap_shear_depth, pile_cap_thickness):\n",
    "\n",
    "    term1 = min(1.33 * calculate_area_of_steel(moment, pile_cap_shear_depth), 0.0033 * )\n",
    "\n",
    "    return calculate_area_of_steel_minimum"
   ]
  }
 ],
 "metadata": {
  "kernelspec": {
   "display_name": "Python 3",
   "language": "python",
   "name": "python3"
  },
  "language_info": {
   "codemirror_mode": {
    "name": "ipython",
    "version": 3
   },
   "file_extension": ".py",
   "mimetype": "text/x-python",
   "name": "python",
   "nbconvert_exporter": "python",
   "pygments_lexer": "ipython3",
   "version": "3.13.1"
  }
 },
 "nbformat": 4,
 "nbformat_minor": 5
}
