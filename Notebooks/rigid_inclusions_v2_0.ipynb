{
 "cells": [
  {
   "cell_type": "markdown",
   "id": "af7a6086",
   "metadata": {},
   "source": [
    "## PROGRAM TO DESIGN FOUNDATIONS SUPPORTED BY RIGID INCLUSIONS"
   ]
  },
  {
   "cell_type": "markdown",
   "id": "ecd93243",
   "metadata": {},
   "source": [
    "### Design Information"
   ]
  },
  {
   "cell_type": "markdown",
   "id": "998d0cd9",
   "metadata": {},
   "source": [
    "#### Provide the information below for design"
   ]
  },
  {
   "cell_type": "code",
   "execution_count": 1,
   "id": "d271ee19-1ea5-493f-9b38-29a0e057abc0",
   "metadata": {},
   "outputs": [],
   "source": [
    "import numpy as np\n",
    "# Input Parameters\n",
    "column_size = (5.0, 2.0)  # Column dimensions (x, y) in ft\n",
    "column_eccentricity = (0.0, 0)  # Eccentricity of column from center (x, y) in ft\n",
    "column_centroid = (6.5, 6.5)  # center of the column in ft\n",
    "pile_cap_thickness = 3.0  # Pile cap thickness in ft\n",
    "pile_embedment = 1.0  # Depth of pile embedment in pile cap (ft)\n",
    "soil_depth_above = 2.0  # Soil depth above pile cap (ft)\n",
    "soil_density =  0 # Soil density in pcf\n",
    "concrete_density = 0  # Concrete density in pcf\n",
    "concrete_strength_psi = 3000\n",
    "column_location = \"interior\" #edge/interior/corner\n",
    "lambda_factor = 1.0\n",
    "pile_cap_shear_depth = 2.625  # Effective shear depth (ft)"
   ]
  },
  {
   "cell_type": "markdown",
   "id": "e7a2a144",
   "metadata": {},
   "source": [
    "#### Provide information for rigid inclusions"
   ]
  },
  {
   "cell_type": "code",
   "execution_count": 2,
   "id": "39f2bba7-97d5-43b1-88ec-e9f82e685bc2",
   "metadata": {},
   "outputs": [],
   "source": [
    "# Pile Properties\n",
    "pile_shape = \"square\"  # Either \"square\" or \"circular\"\n",
    "pile_size = 0.833  # Pile size (ft)\n",
    "max_pile_compression = 120  # Max pile resistance in compression (kips)\n",
    "max_pile_tension = 120  # Max pile resistance in tension (kips)"
   ]
  },
  {
   "cell_type": "markdown",
   "id": "dbdb2133",
   "metadata": {},
   "source": [
    "#### Provide loads on the supported column"
   ]
  },
  {
   "cell_type": "code",
   "execution_count": 3,
   "id": "10da0329-f4fc-4c33-bc9e-e8ee2ba9bcff",
   "metadata": {},
   "outputs": [],
   "source": [
    "# Column Loads (kips and kip-ft)\n",
    "Fx, Fy, Fz = 0, 0.0, -1080*1.27  # Forces in kips\n",
    "Mx, My = 0, 0  # Moments in kip-ft"
   ]
  },
  {
   "cell_type": "markdown",
   "id": "2ef53b54",
   "metadata": {},
   "source": [
    "#### Provide rigid inclusion layout"
   ]
  },
  {
   "cell_type": "code",
   "execution_count": 4,
   "id": "fd07ec4c-7e45-4fde-9781-d14b2740bf14",
   "metadata": {},
   "outputs": [
    {
     "name": "stderr",
     "output_type": "stream",
     "text": [
      "<>:4: SyntaxWarning: list indices must be integers or slices, not tuple; perhaps you missed a comma?\n",
      "<>:4: SyntaxWarning: list indices must be integers or slices, not tuple; perhaps you missed a comma?\n",
      "/var/folders/86/ls7h0rc14h93q7qm0lld7rgh0000gn/T/ipykernel_11863/2716471423.py:4: SyntaxWarning: list indices must be integers or slices, not tuple; perhaps you missed a comma?\n",
      "  [2.75, 6.50],  [6.50, 6.50],  [10.25, 6.50]\n",
      "/var/folders/86/ls7h0rc14h93q7qm0lld7rgh0000gn/T/ipykernel_11863/2716471423.py:4: SyntaxWarning: list indices must be integers or slices, not tuple; perhaps you missed a comma?\n",
      "  [2.75, 6.50],  [6.50, 6.50],  [10.25, 6.50]\n",
      "/var/folders/86/ls7h0rc14h93q7qm0lld7rgh0000gn/T/ipykernel_11863/2716471423.py:4: SyntaxWarning: list indices must be integers or slices, not tuple; perhaps you missed a comma?\n",
      "  [2.75, 6.50],  [6.50, 6.50],  [10.25, 6.50]\n"
     ]
    },
    {
     "ename": "TypeError",
     "evalue": "list indices must be integers or slices, not tuple",
     "output_type": "error",
     "traceback": [
      "\u001b[0;31m---------------------------------------------------------------------------\u001b[0m",
      "\u001b[0;31mTypeError\u001b[0m                                 Traceback (most recent call last)",
      "Cell \u001b[0;32mIn[4], line 4\u001b[0m\n\u001b[1;32m      1\u001b[0m \u001b[38;5;66;03m# Pile Layout (x, y coordinates in ft) - measured from bottom-left corner\u001b[39;00m\n\u001b[1;32m      2\u001b[0m pile_layout \u001b[38;5;241m=\u001b[39m np\u001b[38;5;241m.\u001b[39marray([\n\u001b[1;32m      3\u001b[0m     [\u001b[38;5;241m2.75\u001b[39m, \u001b[38;5;241m2.75\u001b[39m],  [\u001b[38;5;241m6.50\u001b[39m, \u001b[38;5;241m2.75\u001b[39m],  [\u001b[38;5;241m10.25\u001b[39m, \u001b[38;5;241m2.75\u001b[39m],\n\u001b[0;32m----> 4\u001b[0m     [\u001b[38;5;241m2.75\u001b[39m, \u001b[38;5;241m6.50\u001b[39m],  [\u001b[38;5;241m6.50\u001b[39m, \u001b[38;5;241m6.50\u001b[39m],  \u001b[43m[\u001b[49m\u001b[38;5;241;43m10.25\u001b[39;49m\u001b[43m,\u001b[49m\u001b[43m \u001b[49m\u001b[38;5;241;43m6.50\u001b[39;49m\u001b[43m]\u001b[49m\n\u001b[1;32m      5\u001b[0m \u001b[43m    \u001b[49m\u001b[43m[\u001b[49m\u001b[38;5;241;43m2.75\u001b[39;49m\u001b[43m,\u001b[49m\u001b[43m \u001b[49m\u001b[38;5;241;43m10.25\u001b[39;49m\u001b[43m]\u001b[49m, [\u001b[38;5;241m6.50\u001b[39m, \u001b[38;5;241m10.25\u001b[39m], [\u001b[38;5;241m10.25\u001b[39m, \u001b[38;5;241m10.25\u001b[39m]\n\u001b[1;32m      6\u001b[0m ])  \u001b[38;5;66;03m# (ft)\u001b[39;00m\n",
      "\u001b[0;31mTypeError\u001b[0m: list indices must be integers or slices, not tuple"
     ]
    }
   ],
   "source": [
    "# Pile Layout (x, y coordinates in ft) - measured from bottom-left corner\n",
    "pile_layout = np.array([\n",
    "    [2.75, 2.75],  [6.50, 2.75],  [10.25, 2.75],\n",
    "    [2.75, 6.50],  [6.50, 6.50],  [10.25, 6.50]\n",
    "    [2.75, 10.25], [6.50, 10.25], [10.25, 10.25]\n",
    "])  # (ft)"
   ]
  },
  {
   "cell_type": "markdown",
   "id": "31270a7c",
   "metadata": {},
   "source": [
    "#### Provide foundation shape coordinated"
   ]
  },
  {
   "cell_type": "code",
   "execution_count": null,
   "id": "c8ef0bc1",
   "metadata": {},
   "outputs": [],
   "source": [
    "# Pile Cap Shape (Vertices of pile cap)\n",
    "pile_cap_vertices = np.array([\n",
    "    [0, 0], [13, 0], [13, 13], [0, 13]\n",
    "])  # Square pile cap"
   ]
  },
  {
   "cell_type": "markdown",
   "id": "75776dba",
   "metadata": {},
   "source": [
    "### Sections for Shear and Moment Calculations"
   ]
  },
  {
   "cell_type": "markdown",
   "id": "07634384",
   "metadata": {},
   "source": [
    "#### Sections for one-way shear"
   ]
  },
  {
   "cell_type": "code",
   "execution_count": null,
   "id": "6de27711",
   "metadata": {},
   "outputs": [
    {
     "name": "stdout",
     "output_type": "stream",
     "text": [
      "10.125\n"
     ]
    }
   ],
   "source": [
    "# Section 1: Regular line (y = mx + c)\n",
    "offset_1 = column_centroid[1] + column_size[1] / 2 + pile_cap_shear_depth\n",
    "one_way_shear_1_line_type = 'regular'\n",
    "one_way_shear_1_line_value = (0, offset_1)\n",
    "\n",
    "# Section 2: Vertical line (x = c)\n",
    "offset_2 = column_centroid[0] + column_size[0] / 2 + pile_cap_shear_depth\n",
    "one_way_shear_2_line_type = 'vertical'\n",
    "one_way_shear_2_line_value = (offset_2,)"
   ]
  },
  {
   "cell_type": "markdown",
   "id": "7bcdcc8c",
   "metadata": {},
   "source": [
    "#### Sections for one-way moment"
   ]
  },
  {
   "cell_type": "code",
   "execution_count": null,
   "id": "e2cdaf3e",
   "metadata": {},
   "outputs": [],
   "source": [
    "# Section 1: Regular line (y = mx + c)\n",
    "offset_3 = column_centroid[1] + column_size[1] / 2\n",
    "one_way_moment_1_line_type = 'regular'\n",
    "one_way_moment_1_line_value = (0, offset_3)\n",
    "\n",
    "# Section 2: Vertical line (x = c)\n",
    "offset_4 = column_centroid[0] + column_size[0] / 2\n",
    "one_way_moment_2_line_type = 'vertical'\n",
    "one_way_moment_2_line_value = (offset_4,)"
   ]
  },
  {
   "cell_type": "markdown",
   "id": "7421603b",
   "metadata": {},
   "source": [
    "### Library Imports for Functionality"
   ]
  },
  {
   "cell_type": "code",
   "execution_count": null,
   "id": "e20afd65-2ad1-44e3-8125-74bf3c0b016e",
   "metadata": {},
   "outputs": [],
   "source": [
    "import pandas as pd\n",
    "from shapely.geometry import Polygon, LineString, Point\n",
    "from shapely.ops import split\n",
    "import matplotlib.pyplot as plt\n",
    "from matplotlib.patches import Polygon as MplPolygon\n",
    "from pile_distribution_analyzer import (analyze_pile_distribution_with_reactions, calculate_moments_about_section_line)\n",
    "from weight_calculator import calculate_concrete_soil_weight\n",
    "from shear_polygon_analysis import analyze_shear_polygon_reactions\n",
    "from polygon_splitter import split_polygon_by_line\n",
    "from visualization import plot_foundation_analysis\n",
    "from design import calculate_area_of_steel\n",
    "from design import calculate_punching_shear_capacity\n"
   ]
  },
  {
   "cell_type": "markdown",
   "id": "b891f841",
   "metadata": {},
   "source": [
    "### Check to Verify All Rigid Inclusions are Within Foundation"
   ]
  },
  {
   "cell_type": "code",
   "execution_count": null,
   "id": "865ff0f1-88c5-443e-a6db-72fb1fa56503",
   "metadata": {},
   "outputs": [],
   "source": [
    "# Verify all piles are within the pile cap boundary\n",
    "min_x, min_y = np.min(pile_cap_vertices, axis=0)\n",
    "max_x, max_y = np.max(pile_cap_vertices, axis=0)\n",
    "\n",
    "for i, (px, py) in enumerate(pile_layout):\n",
    "    if not (min_x <= px <= max_x and min_y <= py <= max_y):\n",
    "        raise ValueError(f\"Pile {i+1} at ({px}, {py}) is outside the pile cap!\")"
   ]
  },
  {
   "cell_type": "markdown",
   "id": "52cbf51e",
   "metadata": {},
   "source": [
    "### Calculations for Self-weight of Foundation and Soil"
   ]
  },
  {
   "cell_type": "code",
   "execution_count": null,
   "id": "c20b9701-6045-4d3f-a88d-0ca8c25f2369",
   "metadata": {},
   "outputs": [],
   "source": [
    "# Compute Self-weight of Pile Cap and Soil\n",
    "pile_cap_volume = Polygon(pile_cap_vertices).area * pile_cap_thickness  # ft³\n",
    "pile_cap_weight = (pile_cap_volume * concrete_density) / 1000  # kips\n",
    "\n",
    "soil_volume = Polygon(pile_cap_vertices).area * soil_depth_above  # ft³\n",
    "soil_weight = (soil_volume * soil_density) / 1000  # kips\n",
    "\n",
    "# Deduct pile embedment weight\n",
    "pile_embedment_weight = (pile_embedment * pile_size**2 * len(pile_layout) * concrete_density) / 1000  # kips\n",
    "total_weight = pile_cap_weight + soil_weight - pile_embedment_weight"
   ]
  },
  {
   "cell_type": "markdown",
   "id": "489216fd",
   "metadata": {},
   "source": [
    "### Calculations for Reactions on Each Rigid Inclusion"
   ]
  },
  {
   "cell_type": "markdown",
   "id": "5c25ac44",
   "metadata": {},
   "source": [
    "#### Centroid of all rigid inclusions"
   ]
  },
  {
   "cell_type": "code",
   "execution_count": null,
   "id": "3ea33d92-77ed-40f6-8e1b-a6c463492d64",
   "metadata": {},
   "outputs": [],
   "source": [
    "# Compute centroid of pile locations\n",
    "pile_centroid = np.mean(pile_layout, axis=0)"
   ]
  },
  {
   "cell_type": "markdown",
   "id": "3682b4dd",
   "metadata": {},
   "source": [
    "#### Load adjustment for column eccentricity"
   ]
  },
  {
   "cell_type": "code",
   "execution_count": null,
   "id": "bbc6bf62-3ecc-478f-aa2d-cd57c07b0fb9",
   "metadata": {},
   "outputs": [],
   "source": [
    "# Adjust loads for eccentricity\n",
    "Mx_adj = Mx + Fz * column_eccentricity[1]  # Moment about x\n",
    "My_adj = My - Fz * column_eccentricity[0]  # Moment about y"
   ]
  },
  {
   "cell_type": "markdown",
   "id": "28e5aeff",
   "metadata": {},
   "source": [
    "#### Equilibrium equations"
   ]
  },
  {
   "cell_type": "code",
   "execution_count": null,
   "id": "a1c0ec0e-8fa4-4bc8-b212-9bae03124130",
   "metadata": {},
   "outputs": [],
   "source": [
    "# Formulating Equilibrium Equations\n",
    "num_piles = len(pile_layout)\n",
    "A = np.zeros((3, num_piles))  # 3 equations (ΣFz=0, ΣMx=0, ΣMy=0)\n",
    "\n",
    "# Right-hand side of the system of equations (Fix My sign)\n",
    "b = np.array([-Fz + total_weight, -Mx_adj, My_adj])  # <-- FIX HERE\n",
    "\n",
    "for i, (px, py) in enumerate(pile_layout):\n",
    "    A[0, i] = 1  # ΣFz = 0\n",
    "    A[1, i] = py - pile_centroid[1]  # ΣMx = 0 (Moment arm about x-axis)\n",
    "    A[2, i] = px - pile_centroid[0]  # ΣMy = 0 (Moment arm about y-axis)\n",
    "\n",
    "# Solve for reactions using least squares (in case of near-singular matrices)\n",
    "reactions, _, _, _ = np.linalg.lstsq(A, b.reshape(-1, 1), rcond=None)"
   ]
  },
  {
   "cell_type": "markdown",
   "id": "ad95e86e",
   "metadata": {},
   "source": [
    "#### Checking all rigid inclusions are within their capacity"
   ]
  },
  {
   "cell_type": "code",
   "execution_count": null,
   "id": "d439e308-e689-4443-9ac5-fb7a58cd4796",
   "metadata": {},
   "outputs": [],
   "source": [
    "# Ensure piles are within capacity\n",
    "for i, R in enumerate(reactions.flatten()):\n",
    "    if R > max_pile_compression:\n",
    "        print(f\"WARNING: Pile {i+1} exceeds max compression ({R:.2f} > {max_pile_compression} kips)\")\n",
    "    if R < -max_pile_tension:\n",
    "        print(f\"WARNING: Pile {i+1} exceeds max tension ({abs(R):.2f} > {max_pile_tension} kips)\")"
   ]
  },
  {
   "cell_type": "markdown",
   "id": "dd2482b1",
   "metadata": {},
   "source": [
    "#### Results for reactions on rigid inclusions"
   ]
  },
  {
   "cell_type": "code",
   "execution_count": null,
   "id": "0f4fa4a4-ba64-4e21-b0ac-e84b5d4c8f77",
   "metadata": {},
   "outputs": [],
   "source": [
    "# Display Results\n",
    "results = pd.DataFrame({\n",
    "    \"Pile\": np.arange(1, num_piles + 1),\n",
    "    \"X (ft)\": pile_layout[:, 0],\n",
    "    \"Y (ft)\": pile_layout[:, 1],\n",
    "    \"Reaction (kips)\": reactions.flatten()\n",
    "})\n",
    "\n",
    "print(\"\\nPile Reactions:\\n\", results)"
   ]
  },
  {
   "cell_type": "markdown",
   "id": "afbcc96a",
   "metadata": {},
   "source": [
    "### One-way Shear Calculations"
   ]
  },
  {
   "cell_type": "markdown",
   "id": "d1bf650d",
   "metadata": {},
   "source": [
    "#### Calculations for split areas"
   ]
  },
  {
   "cell_type": "code",
   "execution_count": null,
   "id": "a62d601e-7752-40df-9de6-0d5e099652e5",
   "metadata": {},
   "outputs": [],
   "source": [
    "# Section 1: Function returns: area_above, area_below, first_area_moment_above, first_area_moment_below\n",
    "area_above, area_below, area_moment_above, area_moment_below = split_polygon_by_line(\n",
    "    pile_cap_vertices, one_way_shear_1_line_type, one_way_shear_1_line_value\n",
    ")\n",
    "\n",
    "print(f\"Areas above the line 1: {area_above:.2f} sq.ft.\")\n",
    "print(f\"Areas below the line 1: {area_below:.2f} sq.ft.\")\n",
    "\n",
    "area_B = min(area_above, area_below)\n",
    "print(f\"\\nArea for Section 1 (one-way shear): {area_B:.2f} sq.ft.\")\n",
    "\n",
    "area_right, area_left, area_moment_right, area_moment_left = split_polygon_by_line(\n",
    "    pile_cap_vertices, one_way_shear_2_line_type, one_way_shear_2_line_value\n",
    ")\n",
    "\n",
    "print(f\"\\nAreas to the right of the line 2: {area_right:.2f} sq.ft.\")\n",
    "print(f\"Areas to the left of the line 2: {area_left:.2f} sq.ft.\")\n",
    "\n",
    "area_A = min(area_right, area_left)\n",
    "print(f\"\\nArea for Section 2 (one-way shear): {area_A:.2f} sq.ft.\")"
   ]
  },
  {
   "cell_type": "markdown",
   "id": "f38e2abf",
   "metadata": {},
   "source": [
    "#### Calculations for soil and concrete weights"
   ]
  },
  {
   "cell_type": "code",
   "execution_count": null,
   "id": "e87074f0",
   "metadata": {},
   "outputs": [],
   "source": [
    "# Section 1\n",
    "concrete_wt_B, soil_wt_B = calculate_concrete_soil_weight(\n",
    "    area_B,\n",
    "    pile_cap_thickness,\n",
    "    soil_depth_above,\n",
    "    concrete_density,\n",
    "    soil_density\n",
    ")\n",
    "\n",
    "print(f\"Concrete weight over {area_B:.3f} sq.ft.: {concrete_wt_B:.3f} kips\")\n",
    "print(f\"Soil weight over {area_B:.3f} sq.ft.: {soil_wt_B:.3f} kips\")\n",
    "\n",
    "# Section 2\n",
    "concrete_wt_A, soil_wt_A = calculate_concrete_soil_weight(\n",
    "    area_A,\n",
    "    pile_cap_thickness,\n",
    "    soil_depth_above,\n",
    "    concrete_density,\n",
    "    soil_density\n",
    ")\n",
    "\n",
    "print(f\"\\nConcrete weight over {area_A:.3f} sq.ft.: {concrete_wt_A:.3f} kips\")\n",
    "print(f\"Soil weight over {area_A:.3f} sq.ft.: {soil_wt_A:.3f} kips\")"
   ]
  },
  {
   "cell_type": "markdown",
   "id": "fa5f4405",
   "metadata": {},
   "source": [
    "#### Calculations for pile reactions over the split areas"
   ]
  },
  {
   "cell_type": "code",
   "execution_count": null,
   "id": "bee4a750",
   "metadata": {},
   "outputs": [],
   "source": [
    "# -----------------------------------\n",
    "# Section 1: Analyze pile distribution with reactions \n",
    "# -----------------------------------\n",
    "(\n",
    "    area_above_1, area_below_1,\n",
    "    piles_above_1, piles_below_1,\n",
    "    intersected_area_above_1, intersected_area_below_1,\n",
    "    intersected_piles_1,\n",
    "    total_reaction_above_1, total_reaction_below_1,\n",
    "    intersected_pile_geoms_1\n",
    ") = analyze_pile_distribution_with_reactions(\n",
    "    polygon_vertices=pile_cap_vertices,\n",
    "    line_type=one_way_shear_1_line_type,\n",
    "    line_value=one_way_shear_1_line_value,\n",
    "    pile_layout=pile_layout,\n",
    "    pile_size=pile_size,\n",
    "    pile_reactions=reactions\n",
    ")\n",
    "\n",
    "# -----------------------------------\n",
    "# Print results\n",
    "# -----------------------------------\n",
    "print(f\"\\n=== Areas (Section 1)===\")\n",
    "print(f\"Total pile area above line 1: {area_above_1:.2f} sq.ft.\")\n",
    "print(f\"Total pile area below line 1: {area_below_1:.2f} sq.ft.\")\n",
    "\n",
    "print(f\"\\n=== Piles (Section 1) ===\")\n",
    "print(f\"Piles above line 1: {piles_above_1}\")\n",
    "print(f\"Piles below line 1: {piles_below_1}\")\n",
    "\n",
    "print(f\"\\n=== Intersected Piles  (Section 1) ===\")\n",
    "print(f\"Intersected piles: {intersected_piles_1}\")\n",
    "print(f\"Intersected areas above line 1: {intersected_area_above_1:.2f} sq.ft.\")\n",
    "print(f\"Intersected areas below line 1: {intersected_area_below_1:.2f} sq.ft.\")\n",
    "\n",
    "print(f\"\\n=== Reactions  (Section 1) ===\")\n",
    "print(f\"Total reaction above line 1: {total_reaction_above_1:.2f} kips\")\n",
    "print(f\"Total reaction below line 1: {total_reaction_below_1:.2f} kips\")\n",
    "\n",
    "# -----------------------------------\n",
    "# Section 2: Analyze pile distribution with reactions \n",
    "# -----------------------------------\n",
    "(\n",
    "    area_above_2, area_below_2,\n",
    "    piles_above_2, piles_below_2,\n",
    "    intersected_area_above_2, intersected_area_below_2,\n",
    "    intersected_piles_2,\n",
    "    total_reaction_above_2, total_reaction_below_2,\n",
    "    intersected_pile_geoms_2\n",
    ") = analyze_pile_distribution_with_reactions(\n",
    "    polygon_vertices=pile_cap_vertices,\n",
    "    line_type=one_way_shear_2_line_type,\n",
    "    line_value=one_way_shear_2_line_value,\n",
    "    pile_layout=pile_layout,\n",
    "    pile_size=pile_size,\n",
    "    pile_reactions=reactions\n",
    ")\n",
    "\n",
    "# -----------------------------------\n",
    "# Print results\n",
    "# -----------------------------------\n",
    "print(f\"\\n=== Areas (Section 2)===\")\n",
    "print(f\"Total pile area to the right of line 2: {area_above_2:.2f} sq.ft.\")\n",
    "print(f\"Total pile area to the left of line 2: {area_below_2:.2f} sq.ft.\")\n",
    "\n",
    "print(f\"\\n=== Piles (Section 2) ===\")\n",
    "print(f\"Piles to the right of line 2: {piles_above_2}\")\n",
    "print(f\"Piles to the left of line 2: {piles_below_2}\")\n",
    "\n",
    "print(f\"\\n=== Intersected Piles  (Section 2) ===\")\n",
    "print(f\"Intersected piles: {intersected_piles_2}\")\n",
    "print(f\"Intersected areas to the right of line 2: {intersected_area_above_2:.2f} sq.ft.\")\n",
    "print(f\"Intersected areas to the left of line 2: {intersected_area_below_2:.2f} sq.ft.\")\n",
    "\n",
    "print(f\"\\n=== Reactions  (Section 2) ===\")\n",
    "print(f\"Total reaction to the right of line 2: {total_reaction_above_2:.2f} kips\")\n",
    "print(f\"Total reaction to the left of line 2: {total_reaction_below_2:.2f} kips\")"
   ]
  },
  {
   "cell_type": "markdown",
   "id": "c879ec17",
   "metadata": {},
   "source": [
    "#### Calculations for net one-way shear"
   ]
  },
  {
   "cell_type": "code",
   "execution_count": null,
   "id": "43b5498f",
   "metadata": {},
   "outputs": [],
   "source": [
    "one_way_shear_section_2 = total_reaction_above_2 - concrete_wt_A - soil_wt_A\n",
    "one_way_shear_section_1 = total_reaction_above_1 - concrete_wt_B - soil_wt_B\n",
    "\n",
    "print(f\"\\n=== One-Way Shear (kips)===\")\n",
    "print(f\"Net one-way shear at Section 1: {one_way_shear_section_1:.2f} kips\")\n",
    "print(f\"Net one-way shear at Section 2: {one_way_shear_section_2:.2f} kips\")\n"
   ]
  },
  {
   "cell_type": "markdown",
   "id": "054c19ac",
   "metadata": {},
   "source": [
    "### One-way Moment Calculations"
   ]
  },
  {
   "cell_type": "markdown",
   "id": "66f062fa",
   "metadata": {},
   "source": [
    "#### Calculations for split areas and first moment of areas"
   ]
  },
  {
   "cell_type": "code",
   "execution_count": null,
   "id": "65ffbdad",
   "metadata": {},
   "outputs": [],
   "source": [
    "# Section 1: Function returns: area_above, area_below, first_area_moment_above, first_area_moment_below\n",
    "area_above_4, area_below_4, area_moment_above_4, area_moment_below_4 = split_polygon_by_line(\n",
    "    pile_cap_vertices, one_way_moment_1_line_type, one_way_moment_1_line_value\n",
    ")\n",
    "\n",
    "print(f\"Areas above the line 1: {area_above_4:.2f} sq.ft.\")\n",
    "print(f\"Areas below the line 1: {area_below_4:.2f} sq.ft.\")\n",
    "print(f\"First area moment above the line: {area_moment_above_4:.2f} sq.ft.-ft\")\n",
    "print(f\"First area moment below the line: {area_moment_below_4:.2f} sq.ft.-ft\\n\")\n",
    "\n",
    "area_D = min(area_above_4, area_below_4)\n",
    "first_moment_area_D = min(area_moment_above_4, area_moment_below_4)\n",
    "print(f\"\\nArea for Section 1 (one-way moment): {area_D:.2f} sq.ft.\")\n",
    "print(f\"First moment of area for Section 1 (one-way moment): {first_moment_area_D:.2f} sq.ft.\")\n",
    "\n",
    "# Section 2: Function returns: area_above, area_below, first_area_moment_above, first_area_moment_below\n",
    "area_above_3, area_below_3, area_moment_above_3, area_moment_below_3 = split_polygon_by_line(\n",
    "    pile_cap_vertices, one_way_moment_2_line_type, one_way_moment_2_line_value\n",
    ")\n",
    "\n",
    "print(f\"\\nAreas right of the line 2: {area_above_3:.2f} sq.ft.\")\n",
    "print(f\"Areas left the line 2: {area_below_3:.2f} sq.ft.\")\n",
    "print(f\"First area moment right of the line: {area_moment_above_3:.2f} sq.ft.-ft\")\n",
    "print(f\"First area moment left of the line: {area_moment_below_3:.2f} sq.ft.-ft\\n\")\n",
    "\n",
    "area_C = min(area_above_3, area_below_3)\n",
    "first_moment_area_C = min(area_moment_above_3, area_moment_below_3)\n",
    "print(f\"\\nArea for Section 2 (one-way moment): {area_C:.2f} sq.ft.\")\n",
    "print(f\"First moment of area for Section 2 (one-way moment): {first_moment_area_C:.2f} sq.ft.\")"
   ]
  },
  {
   "cell_type": "markdown",
   "id": "cf8a1d70",
   "metadata": {},
   "source": [
    "#### Calculations for moment due to soil and concrete weights"
   ]
  },
  {
   "cell_type": "code",
   "execution_count": null,
   "id": "6e60f888",
   "metadata": {},
   "outputs": [],
   "source": [
    "# Section 1\n",
    "concrete_moment_D, soil_moment_D = calculate_concrete_soil_weight(\n",
    "    first_moment_area_D,\n",
    "    pile_cap_thickness,\n",
    "    soil_depth_above,\n",
    "    concrete_density,\n",
    "    soil_density\n",
    ")\n",
    "\n",
    "print(f\"\\n=== Concrete and Soil Moments (Section 1) ===\")\n",
    "print(f\"Concrete moment (over first moment of area) {first_moment_area_D:.3f} cu.ft.: {concrete_moment_D:.3f} kip-ft\")\n",
    "print(f\"Soil moment (over first moment of area) {first_moment_area_D:.3f} cu.ft.: {soil_moment_D:.3f} kip-ft\")\n",
    "\n",
    "# Section 2\n",
    "concrete_moment_C, soil_moment_C = calculate_concrete_soil_weight(\n",
    "    first_moment_area_C,\n",
    "    pile_cap_thickness,\n",
    "    soil_depth_above,\n",
    "    concrete_density,\n",
    "    soil_density\n",
    ")\n",
    "\n",
    "print(f\"\\n=== Concrete and Soil Moments (Section 2) ===\")\n",
    "print(f\"Concrete moment (over first moment of area) {first_moment_area_C:.3f} cu.ft.: {concrete_moment_C:.3f} kip-ft\")\n",
    "print(f\"Soil moment (over first moment of area) {first_moment_area_C:.3f} cu.ft.: {soil_moment_C:.3f} kip-ft\")"
   ]
  },
  {
   "cell_type": "markdown",
   "id": "0dedc622",
   "metadata": {},
   "source": [
    "#### Calculations for moment due to pile reactions over the split areas"
   ]
  },
  {
   "cell_type": "code",
   "execution_count": null,
   "id": "1fad2a22",
   "metadata": {},
   "outputs": [],
   "source": [
    "# -----------------------------------\n",
    "# Section 1: Analyze pile distribution with reactions \n",
    "# -----------------------------------\n",
    "(\n",
    "    area_above_4, area_below_4,\n",
    "    piles_above_4, piles_below_4,\n",
    "    intersected_area_above_4, intersected_area_below_4,\n",
    "    intersected_piles_4,\n",
    "    total_reaction_above_4, total_reaction_below_4,\n",
    "    intersected_pile_geoms_4\n",
    ") = analyze_pile_distribution_with_reactions(\n",
    "    polygon_vertices=pile_cap_vertices,\n",
    "    line_type=one_way_moment_1_line_type,\n",
    "    line_value=one_way_moment_1_line_value,\n",
    "    pile_layout=pile_layout,\n",
    "    pile_size=pile_size,\n",
    "    pile_reactions=reactions\n",
    ")\n",
    "\n",
    "# -----------------------------------\n",
    "# Calculate moments about section line\n",
    "# -----------------------------------\n",
    "moment_above_4, moment_below_4 = calculate_moments_about_section_line(\n",
    "    line_type=one_way_moment_1_line_type,\n",
    "    line_value=one_way_moment_1_line_value,\n",
    "    pile_layout=pile_layout,\n",
    "    pile_reactions=reactions,\n",
    "    piles_above=piles_above_4,\n",
    "    piles_below=piles_below_4,\n",
    "    intersected_pile_geoms=intersected_pile_geoms_4\n",
    ")\n",
    "\n",
    "# -----------------------------------\n",
    "# Print results\n",
    "# -----------------------------------\n",
    "print(f\"\\n=== Areas (Section 1)===\")\n",
    "print(f\"Total pile area above line 1: {area_above_4:.2f} sq.ft.\")\n",
    "print(f\"Total pile area below line 1: {area_below_4:.2f} sq.ft.\")\n",
    "\n",
    "print(f\"\\n=== Piles (Section 1) ===\")\n",
    "print(f\"Piles above line 1: {piles_above_4}\")\n",
    "print(f\"Piles below line 1: {piles_below_4}\")\n",
    "\n",
    "print(f\"\\n=== Intersected Piles  (Section 1) ===\")\n",
    "print(f\"Intersected piles: {intersected_piles_4}\")\n",
    "print(f\"Intersected areas above line 1: {intersected_area_above_4:.2f} sq.ft.\")\n",
    "print(f\"Intersected areas below line 1: {intersected_area_below_4:.2f} sq.ft.\")\n",
    "\n",
    "print(f\"\\n=== Reactions  (Section 1) ===\")\n",
    "print(f\"Total reaction above line 1: {total_reaction_above_4:.2f} kips\")\n",
    "print(f\"Total reaction below line 1: {total_reaction_below_4:.2f} kips\")\n",
    "\n",
    "print(f\"\\n=== Moments (Section 1) ===\")\n",
    "print(f\"Moment above line: {moment_above_4:.2f} kip-ft\")\n",
    "print(f\"Moment below line: {moment_below_4:.2f} kip-ft\")\n",
    "\n",
    "\n",
    "\n",
    "# -----------------------------------\n",
    "# Section 2: Analyze pile distribution with reactions \n",
    "# -----------------------------------\n",
    "(\n",
    "    area_above_3, area_below_3,\n",
    "    piles_above_3, piles_below_3,\n",
    "    intersected_area_above_3, intersected_area_below_3,\n",
    "    intersected_piles_3,\n",
    "    total_reaction_above_3, total_reaction_below_3,\n",
    "    intersected_pile_geoms_3\n",
    ") = analyze_pile_distribution_with_reactions(\n",
    "    polygon_vertices=pile_cap_vertices,\n",
    "    line_type=one_way_moment_2_line_type,\n",
    "    line_value=one_way_moment_2_line_value,\n",
    "    pile_layout=pile_layout,\n",
    "    pile_size=pile_size,\n",
    "    pile_reactions=reactions\n",
    ")\n",
    "\n",
    "# -----------------------------------\n",
    "# Calculate moments about section line\n",
    "# -----------------------------------\n",
    "moment_above_3, moment_below_3 = calculate_moments_about_section_line(\n",
    "    line_type=one_way_moment_2_line_type,\n",
    "    line_value=one_way_moment_2_line_value,\n",
    "    pile_layout=pile_layout,\n",
    "    pile_reactions=reactions,\n",
    "    piles_above=piles_above_3,\n",
    "    piles_below=piles_below_3,\n",
    "    intersected_pile_geoms=intersected_pile_geoms_3\n",
    ")\n",
    "\n",
    "# -----------------------------------\n",
    "# Print results\n",
    "# -----------------------------------\n",
    "print(f\"\\n=== Areas (Section 2)===\")\n",
    "print(f\"Total pile area right of line 2: {area_above_3:.2f} sq.ft.\")\n",
    "print(f\"Total pile area left of line 2: {area_below_3:.2f} sq.ft.\")\n",
    "\n",
    "print(f\"\\n=== Piles (Section 2) ===\")\n",
    "print(f\"Piles right of line 2: {piles_above_3}\")\n",
    "print(f\"Piles left of line 2: {piles_below_3}\")\n",
    "\n",
    "print(f\"\\n=== Intersected Piles  (Section 1) ===\")\n",
    "print(f\"Intersected piles: {intersected_piles_3}\")\n",
    "print(f\"Intersected areas right of line 2: {intersected_area_above_3:.2f} sq.ft.\")\n",
    "print(f\"Intersected areas left of line 2: {intersected_area_below_3:.2f} sq.ft.\")\n",
    "\n",
    "print(f\"\\n=== Reactions  (Section 2) ===\")\n",
    "print(f\"Total reaction right of line 2: {total_reaction_above_3:.2f} kips\")\n",
    "print(f\"Total reaction left of line 2: {total_reaction_below_3:.2f} kips\")\n",
    "\n",
    "print(f\"\\n=== Moments (Section 2) ===\")\n",
    "print(f\"Moment right of line: {moment_above_3:.2f} kip-ft\")\n",
    "print(f\"Moment left of line: {moment_below_3:.2f} kip-ft\")"
   ]
  },
  {
   "cell_type": "markdown",
   "id": "c379954d",
   "metadata": {},
   "source": [
    "#### Calculations for net one-way moment"
   ]
  },
  {
   "cell_type": "code",
   "execution_count": null,
   "id": "1fb0fafe",
   "metadata": {},
   "outputs": [],
   "source": [
    "one_way_moment_section_3 = moment_above_3 - concrete_moment_C - soil_moment_C\n",
    "one_way_moment_section_4 = moment_above_4 - concrete_moment_D - soil_moment_D\n",
    "\n",
    "print(f\"\\n=== One-Way Mooment (kip-ft)===\")\n",
    "print(f\"Net one-way moment at Section 1: {one_way_moment_section_4:.2f} kip-ft\")\n",
    "print(f\"Net one-way moment at Section 2: {one_way_moment_section_3:.2f} kip-ft\")\n",
    "\n",
    "\n",
    "area_of_steel_section_1 = calculate_area_of_steel(one_way_moment_section_4, pile_cap_shear_depth)\n",
    "area_of_steel_section_2 = calculate_area_of_steel(one_way_moment_section_3, pile_cap_shear_depth)\n"
   ]
  },
  {
   "cell_type": "markdown",
   "id": "9a8344cc",
   "metadata": {},
   "source": [
    "### Two-way Shear Calculations"
   ]
  },
  {
   "cell_type": "markdown",
   "id": "fe3b5c3e",
   "metadata": {},
   "source": [
    "#### Calculations for total reaction outside two-way shear polygon"
   ]
  },
  {
   "cell_type": "code",
   "execution_count": null,
   "id": "a4767479-89de-4277-9e57-ad9d39c79416",
   "metadata": {},
   "outputs": [],
   "source": [
    "# Total reaction outside punching shear polygon\n",
    "result = analyze_shear_polygon_reactions(\n",
    "    polygon_vertices=pile_cap_vertices,\n",
    "    pile_layout=pile_layout,\n",
    "    pile_size=pile_size,\n",
    "    column_centroid=column_centroid,\n",
    "    column_size=column_size,\n",
    "    shear_depth=pile_cap_shear_depth,\n",
    "    pile_reactions=reactions\n",
    ")\n",
    "\n",
    "(\n",
    "    total_reaction_outside,\n",
    "    shear_polygon_coords,\n",
    "    shear_polygon_perimeter,\n",
    "    inside_piles,\n",
    "    outside_piles,\n",
    "    intersecting_piles\n",
    ") = result\n",
    "\n",
    "print(f\"Total reaction outside shear polygon: {total_reaction_outside:.2f} kip\")\n",
    "print(f\"Shear polygon perimeter length: {shear_polygon_perimeter:.2f} ft\")\n",
    "print(f\"Shear polygon coordinates: {shear_polygon_coords}\\n\")\n",
    "\n",
    "print(f\"Piles fully inside shear polygon: {inside_piles}\")\n",
    "print(f\"Piles fully outside shear polygon: {outside_piles}\")\n",
    "print(f\"Piles intersecting shear polygon: {intersecting_piles}\")\n"
   ]
  },
  {
   "cell_type": "markdown",
   "id": "f7521b34",
   "metadata": {},
   "source": [
    "#### Calculations for punching shear capacity"
   ]
  },
  {
   "cell_type": "code",
   "execution_count": null,
   "id": "d89a0c5d",
   "metadata": {},
   "outputs": [],
   "source": [
    "Vc = calculate_punching_shear_capacity(\n",
    "    column_size,\n",
    "    concrete_strength_psi ,\n",
    "    pile_cap_shear_depth*12,\n",
    "    shear_polygon_perimeter*12,\n",
    "    lambda_factor,\n",
    "    column_location, \n",
    ")\n",
    "print(f\"Punching shear capacity = {Vc:.3f} kips\")\n",
    "utilization_ratio = total_reaction_outside / Vc * 100\n",
    "print(f\"Punching shear utilization ratio = {utilization_ratio:.2f} %\")"
   ]
  },
  {
   "cell_type": "markdown",
   "id": "3c5b4809",
   "metadata": {},
   "source": [
    "### Summary of Shear and Moment Acting on Foundation"
   ]
  },
  {
   "cell_type": "markdown",
   "id": "29950447",
   "metadata": {},
   "source": [
    "#### Analysis results"
   ]
  },
  {
   "cell_type": "code",
   "execution_count": null,
   "id": "9e94f968",
   "metadata": {},
   "outputs": [],
   "source": [
    "print(f\"\\n=== One-Way Shear (kips)===\")\n",
    "print(f\"Net one-way shear at Section 1: {one_way_shear_section_1:.2f} kips\")\n",
    "print(f\"Net one-way shear at Section 2: {one_way_shear_section_2:.2f} kips\")\n",
    "\n",
    "print(f\"\\n=== One-Way Mooment (kip-ft)===\")\n",
    "print(f\"Net one-way moment at Section 1: {one_way_moment_section_4:.2f} kip-ft\")\n",
    "print(f\"Net one-way moment at Section 2: {one_way_moment_section_3:.2f} kip-ft\")\n",
    "print(f\"Area of steel for Section 1: {area_of_steel_section_1:.3f} sq. in.\")\n",
    "print(f\"Area of steel for Section 2: {area_of_steel_section_2:.3f} sq. in.\")\n",
    "\n",
    "print(f\"\\n=== Two-way Shear (kip)===\")\n",
    "print(f\"Total reaction outside shear polygon: {total_reaction_outside:.2f} kip\")\n",
    "print(f\"Punching shear capacity = {Vc:.3f} kips\")\n",
    "print(f\"Punching shear utilization ratio = {utilization_ratio:.2f} %\")\n"
   ]
  },
  {
   "cell_type": "markdown",
   "id": "ed4fd625",
   "metadata": {},
   "source": [
    "#### Visualization"
   ]
  },
  {
   "cell_type": "code",
   "execution_count": null,
   "id": "5c85095a",
   "metadata": {},
   "outputs": [],
   "source": [
    "plot_foundation_analysis(\n",
    "    pile_cap_vertices,\n",
    "    pile_layout,\n",
    "    pile_size,\n",
    "    reactions,\n",
    "    column_size,\n",
    "    column_centroid,\n",
    "    pile_cap_thickness,\n",
    "    one_way_shear_1_line_type,\n",
    "    one_way_shear_1_line_value,\n",
    "    one_way_shear_2_line_type,\n",
    "    one_way_shear_2_line_value,\n",
    "    one_way_moment_1_line_type,\n",
    "    one_way_moment_1_line_value,\n",
    "    one_way_moment_2_line_type,\n",
    "    one_way_moment_2_line_value,\n",
    "    one_way_shear_section_1,\n",
    "    one_way_shear_section_2,\n",
    "    one_way_moment_section_4,\n",
    "    one_way_moment_section_3,\n",
    "    area_of_steel_section_1,\n",
    "    area_of_steel_section_2,\n",
    "    shear_polygon_coords,\n",
    "    total_reaction_outside,\n",
    "    Vc,\n",
    "    utilization_ratio\n",
    ")\n"
   ]
  }
 ],
 "metadata": {
  "kernelspec": {
   "display_name": "env",
   "language": "python",
   "name": "python3"
  },
  "language_info": {
   "codemirror_mode": {
    "name": "ipython",
    "version": 3
   },
   "file_extension": ".py",
   "mimetype": "text/x-python",
   "name": "python",
   "nbconvert_exporter": "python",
   "pygments_lexer": "ipython3",
   "version": "3.9.6"
  }
 },
 "nbformat": 4,
 "nbformat_minor": 5
}
