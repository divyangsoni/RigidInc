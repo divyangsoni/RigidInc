{
 "cells": [
  {
   "cell_type": "code",
   "execution_count": 1,
   "id": "e20afd65-2ad1-44e3-8125-74bf3c0b016e",
   "metadata": {},
   "outputs": [],
   "source": [
    "import numpy as np\n",
    "import pandas as pd\n",
    "from shapely.geometry import Polygon, LineString, Point\n",
    "from shapely.ops import split\n",
    "import matplotlib.pyplot as plt\n",
    "from matplotlib.patches import Polygon as MplPolygon\n",
    "from pile_distribution_analyzer import (analyze_pile_distribution_with_reactions, calculate_moments_about_section_line)\n",
    "from weight_calculator import calculate_concrete_soil_weight\n",
    "from shear_polygon_analysis import analyze_shear_polygon_reactions\n",
    "from polygon_splitter import split_polygon_by_line"
   ]
  },
  {
   "cell_type": "code",
   "execution_count": 2,
   "id": "d271ee19-1ea5-493f-9b38-29a0e057abc0",
   "metadata": {},
   "outputs": [],
   "source": [
    "# Input Parameters\n",
    "column_size = (2.0, 5.0)  # Column dimensions (x, y) in ft\n",
    "column_eccentricity = (0.0, 0)  # Eccentricity of column from center (x, y) in ft\n",
    "column_centroid = (7.5, 7.5)  # center of the column in ft\n",
    "pile_cap_thickness = 3.167  # Pile cap thickness in ft\n",
    "pile_embedment = 1.0  # Depth of pile embedment in pile cap (ft)\n",
    "soil_depth_above = 2.0  # Soil depth above pile cap (ft)\n",
    "soil_density = 0  # Soil density in pcf\n",
    "concrete_density = 0  # Concrete density in pcf\n",
    "pile_cap_shear_depth = 2.792  # Effective shear depth (ft)"
   ]
  },
  {
   "cell_type": "code",
   "execution_count": 3,
   "id": "39f2bba7-97d5-43b1-88ec-e9f82e685bc2",
   "metadata": {},
   "outputs": [],
   "source": [
    "# Pile Properties\n",
    "pile_shape = \"square\"  # Either \"square\" or \"circular\"\n",
    "pile_size = 0.833  # Pile size (ft)\n",
    "max_pile_compression = 120  # Max pile resistance in compression (kips)\n",
    "max_pile_tension = 120  # Max pile resistance in tension (kips)"
   ]
  },
  {
   "cell_type": "code",
   "execution_count": 4,
   "id": "10da0329-f4fc-4c33-bc9e-e8ee2ba9bcff",
   "metadata": {},
   "outputs": [],
   "source": [
    "# Column Loads (kips and kip-ft)\n",
    "Fx, Fy, Fz = 0, 0.0, -960  # Forces in kips\n",
    "Mx, My = 0, 0  # Moments in kip-ft"
   ]
  },
  {
   "cell_type": "code",
   "execution_count": 5,
   "id": "fd07ec4c-7e45-4fde-9781-d14b2740bf14",
   "metadata": {},
   "outputs": [],
   "source": [
    "# Pile Layout (x, y coordinates in ft) - measured from bottom-left corner\n",
    "pile_layout = np.array([\n",
    "    [3, 4], [7.5, 4], [12, 4],\n",
    "    [5.25, 7.5], [9.75, 7.5],\n",
    "    [3, 11], [7.5, 11], [12, 11]\n",
    "])  # (ft)"
   ]
  },
  {
   "cell_type": "code",
   "execution_count": 6,
   "id": "c8ef0bc1",
   "metadata": {},
   "outputs": [],
   "source": [
    "# Pile Cap Shape (Vertices of pile cap)\n",
    "pile_cap_vertices = np.array([\n",
    "    [0, 0], [15, 0], [15, 15], [0, 15]\n",
    "])  # Square pile cap"
   ]
  },
  {
   "cell_type": "code",
   "execution_count": 7,
   "id": "865ff0f1-88c5-443e-a6db-72fb1fa56503",
   "metadata": {},
   "outputs": [],
   "source": [
    "# Verify all piles are within the pile cap boundary\n",
    "min_x, min_y = np.min(pile_cap_vertices, axis=0)\n",
    "max_x, max_y = np.max(pile_cap_vertices, axis=0)\n",
    "\n",
    "for i, (px, py) in enumerate(pile_layout):\n",
    "    if not (min_x <= px <= max_x and min_y <= py <= max_y):\n",
    "        raise ValueError(f\"Pile {i+1} at ({px}, {py}) is outside the pile cap!\")"
   ]
  },
  {
   "cell_type": "code",
   "execution_count": 8,
   "id": "c20b9701-6045-4d3f-a88d-0ca8c25f2369",
   "metadata": {},
   "outputs": [],
   "source": [
    "# Compute Self-weight of Pile Cap and Soil\n",
    "pile_cap_volume = Polygon(pile_cap_vertices).area * pile_cap_thickness  # ft³\n",
    "pile_cap_weight = (pile_cap_volume * concrete_density) / 1000  # kips\n",
    "\n",
    "soil_volume = Polygon(pile_cap_vertices).area * soil_depth_above  # ft³\n",
    "soil_weight = (soil_volume * soil_density) / 1000  # kips\n",
    "\n",
    "# Deduct pile embedment weight\n",
    "pile_embedment_weight = (pile_embedment * pile_size**2 * len(pile_layout) * concrete_density) / 1000  # kips\n",
    "total_weight = pile_cap_weight + soil_weight - pile_embedment_weight"
   ]
  },
  {
   "cell_type": "code",
   "execution_count": 9,
   "id": "3ea33d92-77ed-40f6-8e1b-a6c463492d64",
   "metadata": {},
   "outputs": [],
   "source": [
    "# Compute centroid of pile locations\n",
    "pile_centroid = np.mean(pile_layout, axis=0)"
   ]
  },
  {
   "cell_type": "code",
   "execution_count": 10,
   "id": "bbc6bf62-3ecc-478f-aa2d-cd57c07b0fb9",
   "metadata": {},
   "outputs": [],
   "source": [
    "# Adjust loads for eccentricity\n",
    "Mx_adj = Mx + Fz * column_eccentricity[1]  # Moment about x\n",
    "My_adj = My - Fz * column_eccentricity[0]  # Moment about y"
   ]
  },
  {
   "cell_type": "code",
   "execution_count": 11,
   "id": "a1c0ec0e-8fa4-4bc8-b212-9bae03124130",
   "metadata": {},
   "outputs": [],
   "source": [
    "# Formulating Equilibrium Equations\n",
    "num_piles = len(pile_layout)\n",
    "A = np.zeros((3, num_piles))  # 3 equations (ΣFz=0, ΣMx=0, ΣMy=0)\n",
    "\n",
    "# Right-hand side of the system of equations (Fix My sign)\n",
    "b = np.array([-Fz + total_weight, -Mx_adj, My_adj])  # <-- FIX HERE\n",
    "\n",
    "for i, (px, py) in enumerate(pile_layout):\n",
    "    A[0, i] = 1  # ΣFz = 0\n",
    "    A[1, i] = py - pile_centroid[1]  # ΣMx = 0 (Moment arm about x-axis)\n",
    "    A[2, i] = px - pile_centroid[0]  # ΣMy = 0 (Moment arm about y-axis)\n",
    "\n",
    "# Solve for reactions using least squares (in case of near-singular matrices)\n",
    "reactions, _, _, _ = np.linalg.lstsq(A, b.reshape(-1, 1), rcond=None)"
   ]
  },
  {
   "cell_type": "code",
   "execution_count": 12,
   "id": "d439e308-e689-4443-9ac5-fb7a58cd4796",
   "metadata": {},
   "outputs": [],
   "source": [
    "# Ensure piles are within capacity\n",
    "for i, R in enumerate(reactions.flatten()):\n",
    "    if R > max_pile_compression:\n",
    "        print(f\"WARNING: Pile {i+1} exceeds max compression ({R:.2f} > {max_pile_compression} kips)\")\n",
    "    if R < -max_pile_tension:\n",
    "        print(f\"WARNING: Pile {i+1} exceeds max tension ({abs(R):.2f} > {max_pile_tension} kips)\")"
   ]
  },
  {
   "cell_type": "code",
   "execution_count": 13,
   "id": "0f4fa4a4-ba64-4e21-b0ac-e84b5d4c8f77",
   "metadata": {},
   "outputs": [
    {
     "name": "stdout",
     "output_type": "stream",
     "text": [
      "\n",
      "Pile Reactions:\n",
      "    Pile  X (ft)  Y (ft)  Reaction (kips)\n",
      "0     1    3.00     4.0            120.0\n",
      "1     2    7.50     4.0            120.0\n",
      "2     3   12.00     4.0            120.0\n",
      "3     4    5.25     7.5            120.0\n",
      "4     5    9.75     7.5            120.0\n",
      "5     6    3.00    11.0            120.0\n",
      "6     7    7.50    11.0            120.0\n",
      "7     8   12.00    11.0            120.0\n"
     ]
    }
   ],
   "source": [
    "# Display Results\n",
    "results = pd.DataFrame({\n",
    "    \"Pile\": np.arange(1, num_piles + 1),\n",
    "    \"X (ft)\": pile_layout[:, 0],\n",
    "    \"Y (ft)\": pile_layout[:, 1],\n",
    "    \"Reaction (kips)\": reactions.flatten()\n",
    "})\n",
    "\n",
    "print(\"\\nPile Reactions:\\n\", results)"
   ]
  },
  {
   "cell_type": "code",
   "execution_count": 14,
   "id": "a62d601e-7752-40df-9de6-0d5e099652e5",
   "metadata": {},
   "outputs": [
    {
     "name": "stdout",
     "output_type": "stream",
     "text": [
      "Areas above the line: 33.12 sq.ft.\n",
      "Areas below the line: 191.88 sq.ft.\n",
      "First area moment above the line: 36.56 sq.ft.-ft\n",
      "First area moment below the line: 1227.26 sq.ft.-ft\n",
      "\n",
      "Areas to the right of the line: 97.50 sq.ft.\n",
      "Areas to the left of the line: 127.50 sq.ft.\n",
      "First area moment to the right of the line: 316.88 sq.ft.-ft\n",
      "First area moment to the left of the line: 541.88 sq.ft.-ft\n",
      "\n",
      "Areas to the right of the line (x = 8.0): 105.00 sq.ft.\n",
      "Areas to the left of the line (x = 8.0): 120.00 sq.ft.\n",
      "First area moment to the right of the line: 367.50 sq.ft.-ft\n",
      "First area moment to the left of the line: 480.00 sq.ft.-ft\n"
     ]
    }
   ],
   "source": [
    "# Example 1: Regular line (y = 0x + 12.792)\n",
    "line_type = 'regular'\n",
    "line_value = (0, 12.792)\n",
    "\n",
    "# Function returns: area_above, area_below, first_area_moment_above, first_area_moment_below\n",
    "area_above, area_below, area_moment_above, area_moment_below = split_polygon_by_line(\n",
    "    pile_cap_vertices, line_type, line_value\n",
    ")\n",
    "\n",
    "print(f\"Areas above the line: {area_above:.2f} sq.ft.\")\n",
    "print(f\"Areas below the line: {area_below:.2f} sq.ft.\")\n",
    "print(f\"First area moment above the line: {area_moment_above:.2f} sq.ft.-ft\")\n",
    "print(f\"First area moment below the line: {area_moment_below:.2f} sq.ft.-ft\\n\")\n",
    "\n",
    "\n",
    "# Example 2: Vertical line (x = 8.5)\n",
    "line_type = 'vertical'\n",
    "line_value = (8.5,)\n",
    "\n",
    "area_right, area_left, area_moment_right, area_moment_left = split_polygon_by_line(\n",
    "    pile_cap_vertices, line_type, line_value\n",
    ")\n",
    "\n",
    "print(f\"Areas to the right of the line: {area_right:.2f} sq.ft.\")\n",
    "print(f\"Areas to the left of the line: {area_left:.2f} sq.ft.\")\n",
    "print(f\"First area moment to the right of the line: {area_moment_right:.2f} sq.ft.-ft\")\n",
    "print(f\"First area moment to the left of the line: {area_moment_left:.2f} sq.ft.-ft\\n\")\n",
    "\n",
    "\n",
    "# Example 3: Another Vertical Line (x = 8.0)\n",
    "line_type = 'vertical'\n",
    "line_value = (8.0,)\n",
    "\n",
    "area_right, area_left, area_moment_right, area_moment_left = split_polygon_by_line(\n",
    "    pile_cap_vertices, line_type, line_value\n",
    ")\n",
    "\n",
    "print(f\"Areas to the right of the line (x = 8.0): {area_right:.2f} sq.ft.\")\n",
    "print(f\"Areas to the left of the line (x = 8.0): {area_left:.2f} sq.ft.\")\n",
    "print(f\"First area moment to the right of the line: {area_moment_right:.2f} sq.ft.-ft\")\n",
    "print(f\"First area moment to the left of the line: {area_moment_left:.2f} sq.ft.-ft\")\n"
   ]
  },
  {
   "cell_type": "code",
   "execution_count": 15,
   "id": "a3d5cc44-f9ae-4905-95f3-d3fdbb1a9e9c",
   "metadata": {},
   "outputs": [
    {
     "name": "stdout",
     "output_type": "stream",
     "text": [
      "\n",
      "=== Areas ===\n",
      "Total area right of line: 2.08 sq.ft.\n",
      "Total area left of line: 3.47 sq.ft.\n",
      "\n",
      "=== Piles ===\n",
      "Piles right of line: [3, 5, 8]\n",
      "Piles left of line: [1, 2, 4, 6, 7]\n",
      "\n",
      "=== Intersected Piles ===\n",
      "Intersected piles: []\n",
      "Intersected areas right of line: 0.00 sq.ft.\n",
      "Intersected areas left of line: 0.00 sq.ft.\n",
      "\n",
      "=== Reactions ===\n",
      "Total reaction right of line: 360.00 kips\n",
      "Total reaction left of line: 600.00 kips\n",
      "\n",
      "=== Moments ===\n",
      "Moment right of line: 990.00 kip-ft\n",
      "Moment left of line: 1950.00 kip-ft\n"
     ]
    }
   ],
   "source": [
    "# -----------------------------------\n",
    "# Inputs (make sure these variables are defined)\n",
    "# -----------------------------------\n",
    "line_type = 'vertical'\n",
    "line_value = (8.5,)  # x = 11.292 (for vertical line)\n",
    "\n",
    "\n",
    "# -----------------------------------\n",
    "# Analyze pile distribution with reactions\n",
    "# -----------------------------------\n",
    "(\n",
    "    area_above, area_below,\n",
    "    piles_above, piles_below,\n",
    "    intersected_area_above, intersected_area_below,\n",
    "    intersected_piles,\n",
    "    total_reaction_above, total_reaction_below,\n",
    "    intersected_pile_geoms\n",
    ") = analyze_pile_distribution_with_reactions(\n",
    "    polygon_vertices=pile_cap_vertices,\n",
    "    line_type=line_type,\n",
    "    line_value=line_value,\n",
    "    pile_layout=pile_layout,\n",
    "    pile_size=pile_size,\n",
    "    pile_reactions=reactions\n",
    ")\n",
    "\n",
    "# -----------------------------------\n",
    "# Calculate moments about section line\n",
    "# -----------------------------------\n",
    "moment_above, moment_below = calculate_moments_about_section_line(\n",
    "    line_type=line_type,\n",
    "    line_value=line_value,\n",
    "    pile_layout=pile_layout,\n",
    "    pile_reactions=reactions,\n",
    "    piles_above=piles_above,\n",
    "    piles_below=piles_below,\n",
    "    intersected_pile_geoms=intersected_pile_geoms\n",
    ")\n",
    "\n",
    "# -----------------------------------\n",
    "# Print results\n",
    "# -----------------------------------\n",
    "print(f\"\\n=== Areas ===\")\n",
    "print(f\"Total area right of line: {area_above:.2f} sq.ft.\")\n",
    "print(f\"Total area left of line: {area_below:.2f} sq.ft.\")\n",
    "\n",
    "print(f\"\\n=== Piles ===\")\n",
    "print(f\"Piles right of line: {piles_above}\")\n",
    "print(f\"Piles left of line: {piles_below}\")\n",
    "\n",
    "print(f\"\\n=== Intersected Piles ===\")\n",
    "print(f\"Intersected piles: {intersected_piles}\")\n",
    "print(f\"Intersected areas right of line: {intersected_area_above:.2f} sq.ft.\")\n",
    "print(f\"Intersected areas left of line: {intersected_area_below:.2f} sq.ft.\")\n",
    "\n",
    "print(f\"\\n=== Reactions ===\")\n",
    "print(f\"Total reaction right of line: {total_reaction_above:.2f} kips\")\n",
    "print(f\"Total reaction left of line: {total_reaction_below:.2f} kips\")\n",
    "\n",
    "print(f\"\\n=== Moments ===\")\n",
    "print(f\"Moment right of line: {moment_above:.2f} kip-ft\")\n",
    "print(f\"Moment left of line: {moment_below:.2f} kip-ft\")\n",
    "\n"
   ]
  },
  {
   "cell_type": "code",
   "execution_count": 16,
   "id": "92a49d86-0468-40f5-9dfa-417b374440c4",
   "metadata": {},
   "outputs": [
    {
     "name": "stdout",
     "output_type": "stream",
     "text": [
      "Concrete weight over 100.0 sq.ft.: 82.500 kips\n",
      "Soil weight over 100.0 sq.ft.: 24.000 kips\n"
     ]
    }
   ],
   "source": [
    "# Example arguments\n",
    "area = 100.0  # sq.ft.\n",
    "pile_cap_thickness = 5.5  # ft\n",
    "soil_depth_above = 2.0    # ft\n",
    "concrete_density = 150    # pcf\n",
    "soil_density = 120        # pcf\n",
    "\n",
    "# Run the function\n",
    "concrete_wt, soil_wt = calculate_concrete_soil_weight(\n",
    "    area,\n",
    "    pile_cap_thickness,\n",
    "    soil_depth_above,\n",
    "    concrete_density,\n",
    "    soil_density\n",
    ")\n",
    "\n",
    "print(f\"Concrete weight over {area} sq.ft.: {concrete_wt:.3f} kips\")\n",
    "print(f\"Soil weight over {area} sq.ft.: {soil_wt:.3f} kips\")\n"
   ]
  },
  {
   "cell_type": "code",
   "execution_count": 17,
   "id": "228ed0cc",
   "metadata": {},
   "outputs": [
    {
     "name": "stdout",
     "output_type": "stream",
     "text": [
      "Moment right of line: 361.88 kip-ft\n",
      "Moment left of line: 3241.88 kip-ft\n"
     ]
    }
   ],
   "source": [
    "\n",
    "# 1. Analyze pile distribution by line\n",
    "results = analyze_pile_distribution_with_reactions(\n",
    "    pile_cap_vertices,\n",
    "    line_type='vertical',\n",
    "    line_value=(10.5,),\n",
    "    pile_layout=pile_layout,\n",
    "    pile_size=2.0,\n",
    "    pile_reactions=reactions\n",
    ")\n",
    "\n",
    "(\n",
    "    total_area_above,\n",
    "    total_area_below,\n",
    "    piles_above,\n",
    "    piles_below,\n",
    "    intersected_area_above,\n",
    "    intersected_area_below,\n",
    "    intersected_piles,\n",
    "    total_reaction_above,\n",
    "    total_reaction_below,\n",
    "    intersected_pile_geoms\n",
    ") = results\n",
    "\n",
    "# 2. Calculate moments\n",
    "moment_above, moment_below = calculate_moments_about_section_line(\n",
    "    line_type='vertical',\n",
    "    line_value=(10.5,),\n",
    "    pile_layout=pile_layout,\n",
    "    pile_reactions=reactions,\n",
    "    piles_above=piles_above,\n",
    "    piles_below=piles_below,\n",
    "    intersected_pile_geoms=intersected_pile_geoms\n",
    ")\n",
    "\n",
    "print(f\"Moment right of line: {moment_above:.2f} kip-ft\")\n",
    "print(f\"Moment left of line: {moment_below:.2f} kip-ft\")\n"
   ]
  },
  {
   "cell_type": "code",
   "execution_count": 18,
   "id": "a4767479-89de-4277-9e57-ad9d39c79416",
   "metadata": {},
   "outputs": [
    {
     "name": "stdout",
     "output_type": "stream",
     "text": [
      "Total reaction outside shear polygon: 563.84 kip\n",
      "Shear polygon perimeter length: 25.17 ft\n",
      "Shear polygon coordinates: [(5.104, 3.604), (5.104, 11.396), (9.896, 11.396), (9.896, 3.604), (5.104, 3.604)]\n",
      "\n",
      "Piles fully inside shear polygon: []\n",
      "Piles fully outside shear polygon: [1, 3, 6, 8]\n",
      "Piles intersecting shear polygon: [2, 4, 5, 7]\n"
     ]
    }
   ],
   "source": [
    "# Example usage (make sure your variables are properly defined in the main program!)\n",
    "result = analyze_shear_polygon_reactions(\n",
    "    polygon_vertices=pile_cap_vertices,\n",
    "    pile_layout=pile_layout,\n",
    "    pile_size=pile_size,\n",
    "    column_centroid=column_centroid,\n",
    "    column_size=column_size,\n",
    "    shear_depth=pile_cap_shear_depth,\n",
    "    pile_reactions=reactions\n",
    ")\n",
    "\n",
    "(\n",
    "    total_reaction_outside,\n",
    "    shear_polygon_coords,\n",
    "    shear_polygon_perimeter,\n",
    "    inside_piles,\n",
    "    outside_piles,\n",
    "    intersecting_piles\n",
    ") = result\n",
    "\n",
    "print(f\"Total reaction outside shear polygon: {total_reaction_outside:.2f} kip\")\n",
    "print(f\"Shear polygon perimeter length: {shear_polygon_perimeter:.2f} ft\")\n",
    "print(f\"Shear polygon coordinates: {shear_polygon_coords}\\n\")\n",
    "\n",
    "print(f\"Piles fully inside shear polygon: {inside_piles}\")\n",
    "print(f\"Piles fully outside shear polygon: {outside_piles}\")\n",
    "print(f\"Piles intersecting shear polygon: {intersecting_piles}\")\n"
   ]
  }
 ],
 "metadata": {
  "kernelspec": {
   "display_name": "env",
   "language": "python",
   "name": "python3"
  },
  "language_info": {
   "codemirror_mode": {
    "name": "ipython",
    "version": 3
   },
   "file_extension": ".py",
   "mimetype": "text/x-python",
   "name": "python",
   "nbconvert_exporter": "python",
   "pygments_lexer": "ipython3",
   "version": "3.9.6"
  }
 },
 "nbformat": 4,
 "nbformat_minor": 5
}
